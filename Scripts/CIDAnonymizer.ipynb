{
 "cells": [
  {
   "cell_type": "code",
   "execution_count": null,
   "metadata": {},
   "outputs": [],
   "source": [
    "# Import librariries \n",
    "# We need basics like os, sys, time, and datetime,logging, warnings\n",
    "# Data handling libraries like pandas, numpy, and scipy\n",
    "# Data visualization libraries like matplotlib and seaborn\n",
    "# Presidio libraries for data anonymization and PII detection\n",
    "# and the custom Presidio configuration file\n",
    "# Import Open AI libraries for LLMs and OpenAI API\n",
    "import os\n",
    "import sys\n",
    "import time\n",
    "import datetime\n",
    "import logging\n",
    "import warnings\n",
    "import pandas as pd\n",
    "import numpy as np\n",
    "import scipy as sp\n",
    "import matplotlib.pyplot as plt\n",
    "import seaborn as sns\n",
    "import json\n",
    "import re\n",
    "import random\n",
    "import string\n",
    "import requests\n",
    "import glob\n",
    "import asyncio,aiofiles\n",
    "import io\n",
    "import multiprocessing\n",
    "\n"
   ]
  },
  {
   "cell_type": "code",
   "execution_count": 33,
   "metadata": {},
   "outputs": [],
   "source": [
    "# Now install the Presidio libraries for PII detection and anonymization\n",
    "from presidio_analyzer import AnalyzerEngine\n",
    "from presidio_analyzer import RecognizerRegistry\n",
    "from presidio_analyzer import PatternRecognizer\n",
    "from presidio_anonymizer import AnonymizerEngine\n",
    "from presidio_analyzer.nlp_engine import SpacyNlpEngine\n",
    "from presidio_analyzer.nlp_engine import NlpEngineProvider\n",
    "from presidio_analyzer import Pattern\n",
    "from presidio_analyzer.nlp_engine import TransformersNlpEngine\n",
    "from presidio_analyzer.predefined_recognizers import SpacyRecognizer\n",
    "\n",
    "logging.getLogger(\"presidio-analyzer\").setLevel(logging.ERROR)\n",
    "# Set up logging\n",
    "logging.basicConfig(level=logging.INFO, format='%(asctime)s - %(levelname)s - %(message)s')\n",
    "\n"
   ]
  },
  {
   "cell_type": "code",
   "execution_count": null,
   "metadata": {},
   "outputs": [],
   "source": [
    "# Install tesseract for OCR and pytesseract for image processing\n",
    "# Import pdfPlumber, pdf2Image\n",
    "import pytesseract\n",
    "from PIL import Image\n",
    "import pdfplumber\n",
    "from pdf2image import convert_from_path"
   ]
  },
  {
   "cell_type": "code",
   "execution_count": null,
   "metadata": {},
   "outputs": [],
   "source": [
    "# Import NLP package spaCy for text processing and NER\n",
    "import spacy\n",
    "from spacy import displacy\n",
    "# Import OpenAI libraries for LLMs and OpenAI API\n",
    "import openai"
   ]
  },
  {
   "cell_type": "code",
   "execution_count": null,
   "metadata": {},
   "outputs": [],
   "source": [
    "# Load spacy model for NER\n",
    "nlp = spacy.load(\"en_core_web_sm\")\n"
   ]
  },
  {
   "cell_type": "code",
   "execution_count": null,
   "metadata": {},
   "outputs": [],
   "source": [
    "def extract_text_from_pdf(file_path):\n",
    "    # Set the tesseract executable path\n",
    "    pytesseract.pytesseract.tesseract_cmd = r'C:\\Program Files\\Tesseract-OCR\\tesseract.exe'  # Update this path as per your installation\n",
    "    images = convert_from_path(file_path, dpi=300)\n",
    "    text = ''\n",
    "    for i, image in enumerate(images):\n",
    "        text += pytesseract.image_to_string(image)\n",
    "    return text    \n"
   ]
  },
  {
   "cell_type": "code",
   "execution_count": null,
   "metadata": {},
   "outputs": [],
   "source": [
    "# Create a function named read_pdf_files(), this should loop through ../data/fake_email_data folder and get all the pdf files in the folder using glob\n",
    "def read_pdf_files(folder_path):\n",
    "    email_files_txt = []\n",
    "    pdf_files = glob.glob(os.path.join(folder_path, \"*.pdf\"))\n",
    "    for pdf_file in pdf_files:\n",
    "        text = extract_text_from_pdf(pdf_file)\n",
    "        email_files_txt.append({\n",
    "            'file_name': os.path.basename(pdf_file),\n",
    "            'text': text\n",
    "        })\n",
    "    return email_files_txt\n",
    "    "
   ]
  },
  {
   "cell_type": "code",
   "execution_count": null,
   "metadata": {},
   "outputs": [],
   "source": [
    "path = '../data/fake_email_data'\n",
    "# Call the function to read PDF files\n",
    "email_files_txt = read_pdf_files(path)"
   ]
  },
  {
   "cell_type": "code",
   "execution_count": 28,
   "metadata": {},
   "outputs": [],
   "source": [
    "# Custom presidio analyzer for Account Number detection\n",
    "from presidio_analyzer import Pattern\n",
    "\n",
    "\n",
    "\n",
    "\n",
    "def custom_account_number_recognizer():\n",
    "    #acct_regex = r\"(?:\\b(?:Account|Ac|Act|transfer)\\b[\\s:,-]*)?(?:0230[.-]?)?\\d{5}[.-]?[A-Za-z\\d]{2,3}\"\n",
    "    acct_regex = r'(?:\\b(?:Account|Ac|Act|transfer)\\b[\\s:,-]*)?(?:0230[.-]?)?\\d{5}[.-]?(?=[A-Za-z\\d]{2,3}\\b)(?=(?:[^0-9]*[0-9])?[^0-9]*$)[A-Za-z\\d]{2,3}'\n",
    "\n",
    "    account_number_pattern = Pattern(name=\"account_number_pattern\",\n",
    "                                 regex=acct_regex,\n",
    "                                 score=0.85\n",
    "\n",
    "                                 )\n",
    "    # Create a Pattern Recognizer\n",
    "    account_number_recognizer = PatternRecognizer(supported_entity=\"ACCOUNT_NUMBER\", \n",
    "                                                  patterns=[account_number_pattern]\n",
    "                                                  )\n",
    "    \n",
    "    return account_number_recognizer\n",
    "\n"
   ]
  },
  {
   "cell_type": "code",
   "execution_count": 29,
   "metadata": {},
   "outputs": [],
   "source": [
    "def custom_isin_recognizer():\n",
    "    isin_regex = r\"\\b([a-z]{2}\\d{10})|([a-z]{3}[0-9]{1}[0-9a-z]{9})|([a-z]{2}[0-9]{1}[0-9a-z]{9})|([a-z]{3}[0-9]{1}[0-9a-z]{8})|([a-z]{2}\\-\\d{9}\\-\\d)|([a-z]{2}\\-[0-9]{1}[0-9a-z]{8}\\-\\d)|([a-z]{3}\\-[0-9]{1}[0-9a-z]{7}\\-\\d)\"\n",
    "    isin_pattern = Pattern(name=\"isin_pattern\",\n",
    "                           regex=isin_regex,\n",
    "                           score=0.90\n",
    "                           )\n",
    "    # Create a Pattern Recognizer\n",
    "    isin_recognizer = PatternRecognizer(supported_entity=\"ISIN\", \n",
    "                                        patterns=[isin_pattern]\n",
    "                                        )\n",
    "    \n",
    "    return isin_recognizer"
   ]
  },
  {
   "cell_type": "code",
   "execution_count": 35,
   "metadata": {},
   "outputs": [],
   "source": [
    "def custom_address_recognizer():\n",
    "        spacy_recognizer = SpacyRecognizer()\n",
    "        spacy_recognizer.load()\n",
    "        spacy_recognizer.supported_entities = [\"LOCATION\", \"GPE\", \"LOC\"]\n",
    "        return spacy_recognizer\n"
   ]
  },
  {
   "cell_type": "code",
   "execution_count": 37,
   "metadata": {},
   "outputs": [],
   "source": [
    "# Ensure the custom recognizer is registered before running the analysis\n",
    "def analyze_pdf_files(path,email_files_txt):\n",
    "\tpresidio_results_df = None\n",
    "\n",
    "\tprint(\"Starting PDF analysis...\")\n",
    "\t\n",
    "\t# Read the PDF files from the specified path\n",
    "\tif email_files_txt is None:\n",
    "\t\tprint(f\"Reading PDF files from {path}, start time: {time.strftime('%Y-%m-%d %H:%M:%S')}\")\n",
    "\t\temail_files_txt = read_pdf_files(path)\n",
    "\t\tprint(f\"Finished reading PDF files, end time: {time.strftime('%Y-%m-%d %H:%M:%S')}\")\n",
    "\n",
    "\telif len(email_files_txt) != len(glob.glob(os.path.join(path, \"*.pdf\"))):\n",
    "\t\tprint(f\"Reading PDF files from {path}, start time: {time.strftime('%Y-%m-%d %H:%M:%S')}\")\n",
    "\t\temail_files_txt = read_pdf_files(path)\n",
    "\t\tprint(f\"Finished reading PDF files, end time: {time.strftime('%Y-%m-%d %H:%M:%S')}\")\n",
    "\telse:\n",
    "\t\tprint(f\"PDF files already read, start time: {time.strftime('%Y-%m-%d %H:%M:%S')}\")\n",
    "\n",
    "\t# Initialize the analyzer engine with the custom recognizer - account number recognizer\n",
    "\n",
    "\taccount_recognizer = custom_account_number_recognizer()\n",
    "\n",
    "\t# Initialize the analyzer engine with the custom recognizer - ISIN recognizer\n",
    "\tisin_recognizer = custom_isin_recognizer()\n",
    "\n",
    "\t# Initialize the analyzer engine with the custom recognizer - Address recognizer\n",
    "\taddress_recognizer = custom_address_recognizer()\n",
    "\t\n",
    "\t# Create configuration containing engine name and models\n",
    "\tspacy_config = {\n",
    "\t\t\"nlp_engine_name\": \"spacy\",\n",
    "\t\t\"models\": [\n",
    "\t\t\t\t\t{\n",
    "\t\t\t\t\t\"lang_code\": \"en\", \n",
    "\t\t\t  \t\t\"model_name\": \"en_core_web_trf\"\n",
    "\t\t\t\t\t}\t\n",
    "\t\t\t\t]\n",
    "\t}  \n",
    "\n",
    "\t# Create another configuration for transformers engine\n",
    "\t# Define which transformers model to use\n",
    "\t# below is now commented as we are using spacy based transformers model, HF model is throwing compilation error\n",
    "\n",
    "\n",
    "\t# transformer_config = {\n",
    "    # \"nlp_engine_name\": \"transformers\",\n",
    "    # \"models\": [\n",
    "    #     {\n",
    "    #         \"lang_code\": \"en\",\n",
    "    #         \"model\": {\n",
    "    #             \"model_name\": \"dslim/bert-base-NER\"\n",
    "    #         }\n",
    "    #     }\n",
    "    # ]\n",
    "\t# }\n",
    "\n",
    "\n",
    "\n",
    "\n",
    "\n",
    "\t# Create NLP engine with spacy based transformers model\n",
    "\tnlp_engine = NlpEngineProvider(nlp_configuration=spacy_config)\n",
    "\n",
    "\t# Create NLP engine with transformers based model\n",
    "\t#nlp_engine = NlpEngineProvider(nlp_configuration=transformer_config)\n",
    "\n",
    "\n",
    "\tnlp_engine_provider = nlp_engine.create_engine()\n",
    "\n",
    "\t# Create the analyzer engine with the NLP engine provider\n",
    "\tanalyzer = AnalyzerEngine(\n",
    "\t\tnlp_engine=nlp_engine_provider\n",
    "\t)\n",
    "\n",
    "\n",
    "\t# Add the custom recognizer to the analyzer\n",
    "\tanalyzer.registry.add_recognizer(account_recognizer)\n",
    "\tanalyzer.registry.add_recognizer(isin_recognizer)\n",
    "\tanalyzer.registry.add_recognizer(address_recognizer)\n",
    "\n",
    "\n",
    "\n",
    "\t# Define the entities to analyze\n",
    "\tentities = [\"ACCOUNT_NUMBER\",\"ISIN\", \"EMAIL_ADDRESS\", \"PHONE_NUMBER\", \"CREDIT_CARD\", \"BANK_ACCOUNT\", \"IBAN\", \"PERSON\", \"LOCATION\", \"ORGANIATION\",\"LOCATION\", \"GPE\", \"LOC\"]\n",
    "\n",
    "\t# Analyze the text from the PDF files\n",
    "\tresults = []\n",
    "\tfor email_file in email_files_txt:\n",
    "\t\t\n",
    "\t\ttext = email_file.get('text')\n",
    "\t\tfile_name = email_file.get('file_name')\n",
    "\t\tanalysis_results = None\n",
    "\t\ttry:\n",
    "\t\t\tprint(f\"Analyzing file: {file_name}, time started: {time.strftime('%Y-%m-%d %H:%M:%S')}\")\n",
    "\t\t\t\n",
    "\t\t\t# Perform analysis with the custom recognizer\n",
    "\t\t\tanalysis_results = analyzer.analyze(text=text, entities= entities, language=\"en\")\n",
    "\t\t\tfor analysis_result in analysis_results:\n",
    "\t\t\t\tresults.append({\n",
    "\t\t\t\t\t'file_name': file_name,\n",
    "\t\t\t\t\t'entity': analysis_result.entity_type,\n",
    "\t\t\t\t\t'start': analysis_result.start,\n",
    "\t\t\t\t\t'end': analysis_result.end,\n",
    "\t\t\t\t\t'score': analysis_result.score,\n",
    "\t\t\t\t\t'text': text,\n",
    "\t\t\t\t\t'CID' : text[analysis_result.start:analysis_result.end]\n",
    "\t\t\t\t\t})\n",
    "\n",
    "\t\t\t# Add each row to a dataframe if the dataframe exists, if not create for the first time\n",
    "\t\t\tif presidio_results_df is None:\n",
    "\t\t\t\tpresidio_results_df = pd.DataFrame(results)\n",
    "\t\t\telse:\n",
    "\t\t\t\tpresidio_results_df = pd.concat([presidio_results_df, pd.DataFrame(results)], ignore_index=True)\n",
    "\n",
    "\t\texcept Exception as e:\n",
    "\t\t\tprint(f\"Error analyzing file {file_name}: {e}\")\n",
    "\t\t\tcontinue\n",
    "\t\t# Store the analysis result in the results list so that we can convert it to a dataframe later. Need to get the text, entity type and score\n",
    "\treturn presidio_results_df\n",
    "\n"
   ]
  },
  {
   "cell_type": "code",
   "execution_count": 38,
   "metadata": {},
   "outputs": [
    {
     "name": "stdout",
     "output_type": "stream",
     "text": [
      "Starting PDF analysis...\n",
      "PDF files already read, start time: 2025-04-08 01:23:26\n",
      "Analyzing file: unsettled_trade_email_0.pdf, time started: 2025-04-08 01:23:30\n"
     ]
    },
    {
     "name": "stderr",
     "output_type": "stream",
     "text": [
      "c:\\Users\\sakpa\\anaconda3\\Lib\\site-packages\\thinc\\shims\\pytorch.py:114: FutureWarning: `torch.cuda.amp.autocast(args...)` is deprecated. Please use `torch.amp.autocast('cuda', args...)` instead.\n",
      "  with torch.cuda.amp.autocast(self._mixed_precision):\n"
     ]
    },
    {
     "name": "stdout",
     "output_type": "stream",
     "text": [
      "Analyzing file: unsettled_trade_email_1.pdf, time started: 2025-04-08 01:23:31\n"
     ]
    },
    {
     "name": "stderr",
     "output_type": "stream",
     "text": [
      "c:\\Users\\sakpa\\anaconda3\\Lib\\site-packages\\thinc\\shims\\pytorch.py:114: FutureWarning: `torch.cuda.amp.autocast(args...)` is deprecated. Please use `torch.amp.autocast('cuda', args...)` instead.\n",
      "  with torch.cuda.amp.autocast(self._mixed_precision):\n"
     ]
    },
    {
     "name": "stdout",
     "output_type": "stream",
     "text": [
      "Analyzing file: unsettled_trade_email_2.pdf, time started: 2025-04-08 01:23:32\n"
     ]
    },
    {
     "name": "stderr",
     "output_type": "stream",
     "text": [
      "c:\\Users\\sakpa\\anaconda3\\Lib\\site-packages\\thinc\\shims\\pytorch.py:114: FutureWarning: `torch.cuda.amp.autocast(args...)` is deprecated. Please use `torch.amp.autocast('cuda', args...)` instead.\n",
      "  with torch.cuda.amp.autocast(self._mixed_precision):\n"
     ]
    },
    {
     "name": "stdout",
     "output_type": "stream",
     "text": [
      "Analyzing file: unsettled_trade_email_3.pdf, time started: 2025-04-08 01:23:33\n"
     ]
    },
    {
     "name": "stderr",
     "output_type": "stream",
     "text": [
      "c:\\Users\\sakpa\\anaconda3\\Lib\\site-packages\\thinc\\shims\\pytorch.py:114: FutureWarning: `torch.cuda.amp.autocast(args...)` is deprecated. Please use `torch.amp.autocast('cuda', args...)` instead.\n",
      "  with torch.cuda.amp.autocast(self._mixed_precision):\n"
     ]
    },
    {
     "name": "stdout",
     "output_type": "stream",
     "text": [
      "Analyzing file: unsettled_trade_email_4.pdf, time started: 2025-04-08 01:23:36\n"
     ]
    },
    {
     "name": "stderr",
     "output_type": "stream",
     "text": [
      "c:\\Users\\sakpa\\anaconda3\\Lib\\site-packages\\thinc\\shims\\pytorch.py:114: FutureWarning: `torch.cuda.amp.autocast(args...)` is deprecated. Please use `torch.amp.autocast('cuda', args...)` instead.\n",
      "  with torch.cuda.amp.autocast(self._mixed_precision):\n"
     ]
    },
    {
     "name": "stdout",
     "output_type": "stream",
     "text": [
      "Analyzing file: unsettled_trade_email_5.pdf, time started: 2025-04-08 01:23:40\n"
     ]
    },
    {
     "name": "stderr",
     "output_type": "stream",
     "text": [
      "c:\\Users\\sakpa\\anaconda3\\Lib\\site-packages\\thinc\\shims\\pytorch.py:114: FutureWarning: `torch.cuda.amp.autocast(args...)` is deprecated. Please use `torch.amp.autocast('cuda', args...)` instead.\n",
      "  with torch.cuda.amp.autocast(self._mixed_precision):\n"
     ]
    },
    {
     "name": "stdout",
     "output_type": "stream",
     "text": [
      "Analyzing file: unsettled_trade_email_6.pdf, time started: 2025-04-08 01:23:42\n"
     ]
    },
    {
     "name": "stderr",
     "output_type": "stream",
     "text": [
      "c:\\Users\\sakpa\\anaconda3\\Lib\\site-packages\\thinc\\shims\\pytorch.py:114: FutureWarning: `torch.cuda.amp.autocast(args...)` is deprecated. Please use `torch.amp.autocast('cuda', args...)` instead.\n",
      "  with torch.cuda.amp.autocast(self._mixed_precision):\n"
     ]
    },
    {
     "name": "stdout",
     "output_type": "stream",
     "text": [
      "Analyzing file: unsettled_trade_email_7.pdf, time started: 2025-04-08 01:23:44\n"
     ]
    },
    {
     "name": "stderr",
     "output_type": "stream",
     "text": [
      "c:\\Users\\sakpa\\anaconda3\\Lib\\site-packages\\thinc\\shims\\pytorch.py:114: FutureWarning: `torch.cuda.amp.autocast(args...)` is deprecated. Please use `torch.amp.autocast('cuda', args...)` instead.\n",
      "  with torch.cuda.amp.autocast(self._mixed_precision):\n"
     ]
    },
    {
     "name": "stdout",
     "output_type": "stream",
     "text": [
      "Analyzing file: unsettled_trade_email_8.pdf, time started: 2025-04-08 01:23:46\n"
     ]
    },
    {
     "name": "stderr",
     "output_type": "stream",
     "text": [
      "c:\\Users\\sakpa\\anaconda3\\Lib\\site-packages\\thinc\\shims\\pytorch.py:114: FutureWarning: `torch.cuda.amp.autocast(args...)` is deprecated. Please use `torch.amp.autocast('cuda', args...)` instead.\n",
      "  with torch.cuda.amp.autocast(self._mixed_precision):\n"
     ]
    },
    {
     "name": "stdout",
     "output_type": "stream",
     "text": [
      "Analyzing file: unsettled_trade_email_9.pdf, time started: 2025-04-08 01:23:48\n"
     ]
    },
    {
     "name": "stderr",
     "output_type": "stream",
     "text": [
      "c:\\Users\\sakpa\\anaconda3\\Lib\\site-packages\\thinc\\shims\\pytorch.py:114: FutureWarning: `torch.cuda.amp.autocast(args...)` is deprecated. Please use `torch.amp.autocast('cuda', args...)` instead.\n",
      "  with torch.cuda.amp.autocast(self._mixed_precision):\n"
     ]
    },
    {
     "name": "stdout",
     "output_type": "stream",
     "text": [
      "Analyzing file: unsettled_trade_email_with_table.pdf, time started: 2025-04-08 01:23:50\n"
     ]
    },
    {
     "name": "stderr",
     "output_type": "stream",
     "text": [
      "c:\\Users\\sakpa\\anaconda3\\Lib\\site-packages\\thinc\\shims\\pytorch.py:114: FutureWarning: `torch.cuda.amp.autocast(args...)` is deprecated. Please use `torch.amp.autocast('cuda', args...)` instead.\n",
      "  with torch.cuda.amp.autocast(self._mixed_precision):\n"
     ]
    }
   ],
   "source": [
    "\n",
    "# Ensure the custom recognizer is registered before running the analysis\n",
    "path = '../data/fake_email_data'\n",
    "# suppress presidio warnings\n",
    "warnings.filterwarnings(\"ignore\", category=UserWarning, module=\"presidio_analyzer\")\n",
    "# Analyze the PDF files\n",
    "presidio_results_df = analyze_pdf_files(path,email_files_txt)\n"
   ]
  },
  {
   "cell_type": "code",
   "execution_count": 39,
   "metadata": {},
   "outputs": [
    {
     "data": {
      "application/vnd.microsoft.datawrangler.viewer.v0+json": {
       "columns": [
        {
         "name": "index",
         "rawType": "int64",
         "type": "integer"
        },
        {
         "name": "file_name",
         "rawType": "object",
         "type": "string"
        },
        {
         "name": "entity",
         "rawType": "object",
         "type": "string"
        },
        {
         "name": "start",
         "rawType": "int64",
         "type": "integer"
        },
        {
         "name": "end",
         "rawType": "int64",
         "type": "integer"
        },
        {
         "name": "score",
         "rawType": "float64",
         "type": "float"
        },
        {
         "name": "text",
         "rawType": "object",
         "type": "string"
        },
        {
         "name": "CID",
         "rawType": "object",
         "type": "string"
        }
       ],
       "conversionMethod": "pd.DataFrame",
       "ref": "127cfe22-e656-4bcd-9359-ed42b8c8fa02",
       "rows": [
        [
         "0",
         "unsettled_trade_email_0.pdf",
         "EMAIL_ADDRESS",
         "976",
         "994",
         "1.0",
         "Unsettled Trade Notification - Guy\n\nCesar Pittman, Psychologist, educational Team, Conway Ltd Financial\nTo: Operations Group, Taylor Inc\nCC: Trade Services, Global Clearing Corp.\n\nDear Operations Group, Taylor Inc, This is to inform you that the trade detailed below has not settled as\nscheduled. We need your immediate attention to resolve this. Trade Details: [See Table Below] Issue:\nSettlement was due on 2025-04-13, but the transaction remains incomplete. Please investigate the\ncause of this delay and advise on the steps needed to finalize the settlement. Requested Action: 1.\nProvide the current status of this trade. 2. Inform us of any actions required from our side. 3. Report any\ndiscrepancies that need to be addressed. Your swift response is crucial. Please acknowledge this email\nand provide an update by 2025-04-08. Best regards, Cesar Pittman Psychologist, educational Team\nConway Ltd Financial 495 Norton Corner Apt. 188, West Charles, Czech Republic Email:\npaul94@example.net Phone: 8704353787 Fax: 001-232-449-3744x53085 Custodian Account:\n0230.29586.Nk3\n\n2025-02-17 US0563377191 | 0230.85062.Rk1\n2025-02-06 GB9310278618 | 0230.82858.KD2\n\n2025-02-19 FR6165831749 | 0230.25865.wP4\n2025-02-18 DE1756193227 | 0230.89193.Ka4\n2025-03-02 JP9273431409 | 21299\n\n",
         "paul94@example.net"
        ],
        [
         "1",
         "unsettled_trade_email_0.pdf",
         "ISIN",
         "1087",
         "1099",
         "0.9",
         "Unsettled Trade Notification - Guy\n\nCesar Pittman, Psychologist, educational Team, Conway Ltd Financial\nTo: Operations Group, Taylor Inc\nCC: Trade Services, Global Clearing Corp.\n\nDear Operations Group, Taylor Inc, This is to inform you that the trade detailed below has not settled as\nscheduled. We need your immediate attention to resolve this. Trade Details: [See Table Below] Issue:\nSettlement was due on 2025-04-13, but the transaction remains incomplete. Please investigate the\ncause of this delay and advise on the steps needed to finalize the settlement. Requested Action: 1.\nProvide the current status of this trade. 2. Inform us of any actions required from our side. 3. Report any\ndiscrepancies that need to be addressed. Your swift response is crucial. Please acknowledge this email\nand provide an update by 2025-04-08. Best regards, Cesar Pittman Psychologist, educational Team\nConway Ltd Financial 495 Norton Corner Apt. 188, West Charles, Czech Republic Email:\npaul94@example.net Phone: 8704353787 Fax: 001-232-449-3744x53085 Custodian Account:\n0230.29586.Nk3\n\n2025-02-17 US0563377191 | 0230.85062.Rk1\n2025-02-06 GB9310278618 | 0230.82858.KD2\n\n2025-02-19 FR6165831749 | 0230.25865.wP4\n2025-02-18 DE1756193227 | 0230.89193.Ka4\n2025-03-02 JP9273431409 | 21299\n\n",
         "US0563377191"
        ],
        [
         "2",
         "unsettled_trade_email_0.pdf",
         "ISIN",
         "1128",
         "1140",
         "0.9",
         "Unsettled Trade Notification - Guy\n\nCesar Pittman, Psychologist, educational Team, Conway Ltd Financial\nTo: Operations Group, Taylor Inc\nCC: Trade Services, Global Clearing Corp.\n\nDear Operations Group, Taylor Inc, This is to inform you that the trade detailed below has not settled as\nscheduled. We need your immediate attention to resolve this. Trade Details: [See Table Below] Issue:\nSettlement was due on 2025-04-13, but the transaction remains incomplete. Please investigate the\ncause of this delay and advise on the steps needed to finalize the settlement. Requested Action: 1.\nProvide the current status of this trade. 2. Inform us of any actions required from our side. 3. Report any\ndiscrepancies that need to be addressed. Your swift response is crucial. Please acknowledge this email\nand provide an update by 2025-04-08. Best regards, Cesar Pittman Psychologist, educational Team\nConway Ltd Financial 495 Norton Corner Apt. 188, West Charles, Czech Republic Email:\npaul94@example.net Phone: 8704353787 Fax: 001-232-449-3744x53085 Custodian Account:\n0230.29586.Nk3\n\n2025-02-17 US0563377191 | 0230.85062.Rk1\n2025-02-06 GB9310278618 | 0230.82858.KD2\n\n2025-02-19 FR6165831749 | 0230.25865.wP4\n2025-02-18 DE1756193227 | 0230.89193.Ka4\n2025-03-02 JP9273431409 | 21299\n\n",
         "GB9310278618"
        ],
        [
         "3",
         "unsettled_trade_email_0.pdf",
         "ISIN",
         "1170",
         "1182",
         "0.9",
         "Unsettled Trade Notification - Guy\n\nCesar Pittman, Psychologist, educational Team, Conway Ltd Financial\nTo: Operations Group, Taylor Inc\nCC: Trade Services, Global Clearing Corp.\n\nDear Operations Group, Taylor Inc, This is to inform you that the trade detailed below has not settled as\nscheduled. We need your immediate attention to resolve this. Trade Details: [See Table Below] Issue:\nSettlement was due on 2025-04-13, but the transaction remains incomplete. Please investigate the\ncause of this delay and advise on the steps needed to finalize the settlement. Requested Action: 1.\nProvide the current status of this trade. 2. Inform us of any actions required from our side. 3. Report any\ndiscrepancies that need to be addressed. Your swift response is crucial. Please acknowledge this email\nand provide an update by 2025-04-08. Best regards, Cesar Pittman Psychologist, educational Team\nConway Ltd Financial 495 Norton Corner Apt. 188, West Charles, Czech Republic Email:\npaul94@example.net Phone: 8704353787 Fax: 001-232-449-3744x53085 Custodian Account:\n0230.29586.Nk3\n\n2025-02-17 US0563377191 | 0230.85062.Rk1\n2025-02-06 GB9310278618 | 0230.82858.KD2\n\n2025-02-19 FR6165831749 | 0230.25865.wP4\n2025-02-18 DE1756193227 | 0230.89193.Ka4\n2025-03-02 JP9273431409 | 21299\n\n",
         "FR6165831749"
        ],
        [
         "4",
         "unsettled_trade_email_0.pdf",
         "ISIN",
         "1211",
         "1223",
         "0.9",
         "Unsettled Trade Notification - Guy\n\nCesar Pittman, Psychologist, educational Team, Conway Ltd Financial\nTo: Operations Group, Taylor Inc\nCC: Trade Services, Global Clearing Corp.\n\nDear Operations Group, Taylor Inc, This is to inform you that the trade detailed below has not settled as\nscheduled. We need your immediate attention to resolve this. Trade Details: [See Table Below] Issue:\nSettlement was due on 2025-04-13, but the transaction remains incomplete. Please investigate the\ncause of this delay and advise on the steps needed to finalize the settlement. Requested Action: 1.\nProvide the current status of this trade. 2. Inform us of any actions required from our side. 3. Report any\ndiscrepancies that need to be addressed. Your swift response is crucial. Please acknowledge this email\nand provide an update by 2025-04-08. Best regards, Cesar Pittman Psychologist, educational Team\nConway Ltd Financial 495 Norton Corner Apt. 188, West Charles, Czech Republic Email:\npaul94@example.net Phone: 8704353787 Fax: 001-232-449-3744x53085 Custodian Account:\n0230.29586.Nk3\n\n2025-02-17 US0563377191 | 0230.85062.Rk1\n2025-02-06 GB9310278618 | 0230.82858.KD2\n\n2025-02-19 FR6165831749 | 0230.25865.wP4\n2025-02-18 DE1756193227 | 0230.89193.Ka4\n2025-03-02 JP9273431409 | 21299\n\n",
         "DE1756193227"
        ]
       ],
       "shape": {
        "columns": 7,
        "rows": 5
       }
      },
      "text/html": [
       "<div>\n",
       "<style scoped>\n",
       "    .dataframe tbody tr th:only-of-type {\n",
       "        vertical-align: middle;\n",
       "    }\n",
       "\n",
       "    .dataframe tbody tr th {\n",
       "        vertical-align: top;\n",
       "    }\n",
       "\n",
       "    .dataframe thead th {\n",
       "        text-align: right;\n",
       "    }\n",
       "</style>\n",
       "<table border=\"1\" class=\"dataframe\">\n",
       "  <thead>\n",
       "    <tr style=\"text-align: right;\">\n",
       "      <th></th>\n",
       "      <th>file_name</th>\n",
       "      <th>entity</th>\n",
       "      <th>start</th>\n",
       "      <th>end</th>\n",
       "      <th>score</th>\n",
       "      <th>text</th>\n",
       "      <th>CID</th>\n",
       "    </tr>\n",
       "  </thead>\n",
       "  <tbody>\n",
       "    <tr>\n",
       "      <th>0</th>\n",
       "      <td>unsettled_trade_email_0.pdf</td>\n",
       "      <td>EMAIL_ADDRESS</td>\n",
       "      <td>976</td>\n",
       "      <td>994</td>\n",
       "      <td>1.0</td>\n",
       "      <td>Unsettled Trade Notification - Guy\\n\\nCesar Pi...</td>\n",
       "      <td>paul94@example.net</td>\n",
       "    </tr>\n",
       "    <tr>\n",
       "      <th>1</th>\n",
       "      <td>unsettled_trade_email_0.pdf</td>\n",
       "      <td>ISIN</td>\n",
       "      <td>1087</td>\n",
       "      <td>1099</td>\n",
       "      <td>0.9</td>\n",
       "      <td>Unsettled Trade Notification - Guy\\n\\nCesar Pi...</td>\n",
       "      <td>US0563377191</td>\n",
       "    </tr>\n",
       "    <tr>\n",
       "      <th>2</th>\n",
       "      <td>unsettled_trade_email_0.pdf</td>\n",
       "      <td>ISIN</td>\n",
       "      <td>1128</td>\n",
       "      <td>1140</td>\n",
       "      <td>0.9</td>\n",
       "      <td>Unsettled Trade Notification - Guy\\n\\nCesar Pi...</td>\n",
       "      <td>GB9310278618</td>\n",
       "    </tr>\n",
       "    <tr>\n",
       "      <th>3</th>\n",
       "      <td>unsettled_trade_email_0.pdf</td>\n",
       "      <td>ISIN</td>\n",
       "      <td>1170</td>\n",
       "      <td>1182</td>\n",
       "      <td>0.9</td>\n",
       "      <td>Unsettled Trade Notification - Guy\\n\\nCesar Pi...</td>\n",
       "      <td>FR6165831749</td>\n",
       "    </tr>\n",
       "    <tr>\n",
       "      <th>4</th>\n",
       "      <td>unsettled_trade_email_0.pdf</td>\n",
       "      <td>ISIN</td>\n",
       "      <td>1211</td>\n",
       "      <td>1223</td>\n",
       "      <td>0.9</td>\n",
       "      <td>Unsettled Trade Notification - Guy\\n\\nCesar Pi...</td>\n",
       "      <td>DE1756193227</td>\n",
       "    </tr>\n",
       "  </tbody>\n",
       "</table>\n",
       "</div>"
      ],
      "text/plain": [
       "                     file_name         entity  start   end  score  \\\n",
       "0  unsettled_trade_email_0.pdf  EMAIL_ADDRESS    976   994    1.0   \n",
       "1  unsettled_trade_email_0.pdf           ISIN   1087  1099    0.9   \n",
       "2  unsettled_trade_email_0.pdf           ISIN   1128  1140    0.9   \n",
       "3  unsettled_trade_email_0.pdf           ISIN   1170  1182    0.9   \n",
       "4  unsettled_trade_email_0.pdf           ISIN   1211  1223    0.9   \n",
       "\n",
       "                                                text                 CID  \n",
       "0  Unsettled Trade Notification - Guy\\n\\nCesar Pi...  paul94@example.net  \n",
       "1  Unsettled Trade Notification - Guy\\n\\nCesar Pi...        US0563377191  \n",
       "2  Unsettled Trade Notification - Guy\\n\\nCesar Pi...        GB9310278618  \n",
       "3  Unsettled Trade Notification - Guy\\n\\nCesar Pi...        FR6165831749  \n",
       "4  Unsettled Trade Notification - Guy\\n\\nCesar Pi...        DE1756193227  "
      ]
     },
     "execution_count": 39,
     "metadata": {},
     "output_type": "execute_result"
    }
   ],
   "source": [
    "presidio_results_df.head()"
   ]
  },
  {
   "cell_type": "code",
   "execution_count": null,
   "metadata": {},
   "outputs": [],
   "source": []
  }
 ],
 "metadata": {
  "kernelspec": {
   "display_name": "base",
   "language": "python",
   "name": "python3"
  },
  "language_info": {
   "codemirror_mode": {
    "name": "ipython",
    "version": 3
   },
   "file_extension": ".py",
   "mimetype": "text/x-python",
   "name": "python",
   "nbconvert_exporter": "python",
   "pygments_lexer": "ipython3",
   "version": "3.11.5"
  }
 },
 "nbformat": 4,
 "nbformat_minor": 2
}

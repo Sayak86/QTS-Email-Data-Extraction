{
 "cells": [
  {
   "cell_type": "code",
   "execution_count": 1,
   "metadata": {},
   "outputs": [],
   "source": [
    "# Import librariries \n",
    "# We need basics like os, sys, time, and datetime,logging, warnings\n",
    "# Data handling libraries like pandas, numpy, and scipy\n",
    "# Data visualization libraries like matplotlib and seaborn\n",
    "# Presidio libraries for data anonymization and PII detection\n",
    "# and the custom Presidio configuration file\n",
    "# Import Open AI libraries for LLMs and OpenAI API\n",
    "import os\n",
    "import sys\n",
    "import time\n",
    "import datetime\n",
    "import logging\n",
    "import warnings\n"
   ]
  },
  {
   "cell_type": "code",
   "execution_count": 2,
   "metadata": {},
   "outputs": [],
   "source": [
    "\n",
    "import pandas as pd\n",
    "import numpy as np"
   ]
  },
  {
   "cell_type": "code",
   "execution_count": 3,
   "metadata": {},
   "outputs": [],
   "source": [
    "\n",
    "import json\n",
    "import re\n",
    "import random\n",
    "import string\n",
    "import requests\n",
    "import glob\n",
    "import asyncio,aiofiles\n",
    "import io\n",
    "import multiprocessing\n"
   ]
  },
  {
   "cell_type": "code",
   "execution_count": 4,
   "metadata": {},
   "outputs": [
    {
     "name": "stderr",
     "output_type": "stream",
     "text": [
      "c:\\Users\\sakpa\\anaconda3\\Lib\\site-packages\\torch\\utils\\_pytree.py:185: FutureWarning: optree is installed but the version is too old to support PyTorch Dynamo in C++ pytree. C++ pytree support is disabled. Please consider upgrading optree using `python3 -m pip install --upgrade 'optree>=0.13.0'`.\n",
      "  warnings.warn(\n"
     ]
    }
   ],
   "source": [
    "# Now install the Presidio libraries for PII detection and anonymization\n",
    "from presidio_analyzer import AnalyzerEngine\n",
    "from presidio_analyzer import RecognizerRegistry\n",
    "from presidio_analyzer import PatternRecognizer\n",
    "from presidio_anonymizer import AnonymizerEngine\n",
    "from presidio_analyzer.nlp_engine import SpacyNlpEngine\n",
    "from presidio_analyzer.nlp_engine import NlpEngineProvider\n",
    "from presidio_analyzer import Pattern\n",
    "from presidio_analyzer.predefined_recognizers import SpacyRecognizer\n",
    "\n",
    "logging.getLogger(\"presidio-analyzer\").setLevel(logging.ERROR)\n",
    "# Set up logging\n",
    "logging.basicConfig(level=logging.INFO, format='%(asctime)s - %(levelname)s - %(message)s')\n",
    "\n"
   ]
  },
  {
   "cell_type": "code",
   "execution_count": 5,
   "metadata": {},
   "outputs": [],
   "source": [
    "# Install tesseract for OCR and pytesseract for image processing\n",
    "# Import pdfPlumber, pdf2Image\n",
    "\n",
    "import pytesseract\n",
    "from PIL import Image\n",
    "import pdfplumber\n",
    "from pdf2image import convert_from_path"
   ]
  },
  {
   "cell_type": "code",
   "execution_count": 6,
   "metadata": {},
   "outputs": [],
   "source": [
    "# Import NLP package spaCy for text processing and NER\n",
    "import spacy\n",
    "from spacy import displacy\n",
    "# Import OpenAI libraries for LLMs and OpenAI API\n",
    "import openai"
   ]
  },
  {
   "cell_type": "code",
   "execution_count": 7,
   "metadata": {},
   "outputs": [
    {
     "name": "stdout",
     "output_type": "stream",
     "text": [
      "Collecting en-core-web-sm==3.7.1\n",
      "  Downloading https://github.com/explosion/spacy-models/releases/download/en_core_web_sm-3.7.1/en_core_web_sm-3.7.1-py3-none-any.whl (12.8 MB)\n",
      "     ---------------------------------------- 0.0/12.8 MB ? eta -:--:--\n",
      "     ---------------------------------------- 0.0/12.8 MB ? eta -:--:--\n",
      "     -- ------------------------------------- 0.8/12.8 MB 5.6 MB/s eta 0:00:03\n",
      "     ------------- -------------------------- 4.5/12.8 MB 12.2 MB/s eta 0:00:01\n",
      "     ---------------------------------- ---- 11.3/12.8 MB 19.6 MB/s eta 0:00:01\n",
      "     --------------------------------------- 12.8/12.8 MB 18.7 MB/s eta 0:00:00\n",
      "Requirement already satisfied: spacy<3.8.0,>=3.7.2 in c:\\users\\sakpa\\anaconda3\\lib\\site-packages (from en-core-web-sm==3.7.1) (3.7.5)\n",
      "Requirement already satisfied: spacy-legacy<3.1.0,>=3.0.11 in c:\\users\\sakpa\\anaconda3\\lib\\site-packages (from spacy<3.8.0,>=3.7.2->en-core-web-sm==3.7.1) (3.0.12)\n",
      "Requirement already satisfied: spacy-loggers<2.0.0,>=1.0.0 in c:\\users\\sakpa\\anaconda3\\lib\\site-packages (from spacy<3.8.0,>=3.7.2->en-core-web-sm==3.7.1) (1.0.5)\n",
      "Requirement already satisfied: murmurhash<1.1.0,>=0.28.0 in c:\\users\\sakpa\\anaconda3\\lib\\site-packages (from spacy<3.8.0,>=3.7.2->en-core-web-sm==3.7.1) (1.0.10)\n",
      "Requirement already satisfied: cymem<2.1.0,>=2.0.2 in c:\\users\\sakpa\\anaconda3\\lib\\site-packages (from spacy<3.8.0,>=3.7.2->en-core-web-sm==3.7.1) (2.0.8)\n",
      "Requirement already satisfied: preshed<3.1.0,>=3.0.2 in c:\\users\\sakpa\\anaconda3\\lib\\site-packages (from spacy<3.8.0,>=3.7.2->en-core-web-sm==3.7.1) (3.0.9)\n",
      "Requirement already satisfied: thinc<8.3.0,>=8.2.2 in c:\\users\\sakpa\\anaconda3\\lib\\site-packages (from spacy<3.8.0,>=3.7.2->en-core-web-sm==3.7.1) (8.2.5)\n",
      "Requirement already satisfied: wasabi<1.2.0,>=0.9.1 in c:\\users\\sakpa\\anaconda3\\lib\\site-packages (from spacy<3.8.0,>=3.7.2->en-core-web-sm==3.7.1) (1.1.3)\n",
      "Requirement already satisfied: srsly<3.0.0,>=2.4.3 in c:\\users\\sakpa\\anaconda3\\lib\\site-packages (from spacy<3.8.0,>=3.7.2->en-core-web-sm==3.7.1) (2.4.8)\n",
      "Requirement already satisfied: catalogue<2.1.0,>=2.0.6 in c:\\users\\sakpa\\anaconda3\\lib\\site-packages (from spacy<3.8.0,>=3.7.2->en-core-web-sm==3.7.1) (2.0.10)\n",
      "Requirement already satisfied: weasel<0.5.0,>=0.1.0 in c:\\users\\sakpa\\anaconda3\\lib\\site-packages (from spacy<3.8.0,>=3.7.2->en-core-web-sm==3.7.1) (0.4.1)\n",
      "Requirement already satisfied: typer<1.0.0,>=0.3.0 in c:\\users\\sakpa\\anaconda3\\lib\\site-packages (from spacy<3.8.0,>=3.7.2->en-core-web-sm==3.7.1) (0.12.3)\n",
      "Requirement already satisfied: tqdm<5.0.0,>=4.38.0 in c:\\users\\sakpa\\anaconda3\\lib\\site-packages (from spacy<3.8.0,>=3.7.2->en-core-web-sm==3.7.1) (4.67.0)\n",
      "Requirement already satisfied: requests<3.0.0,>=2.13.0 in c:\\users\\sakpa\\anaconda3\\lib\\site-packages (from spacy<3.8.0,>=3.7.2->en-core-web-sm==3.7.1) (2.31.0)\n",
      "Requirement already satisfied: pydantic!=1.8,!=1.8.1,<3.0.0,>=1.7.4 in c:\\users\\sakpa\\anaconda3\\lib\\site-packages (from spacy<3.8.0,>=3.7.2->en-core-web-sm==3.7.1) (2.10.6)\n",
      "Requirement already satisfied: jinja2 in c:\\users\\sakpa\\anaconda3\\lib\\site-packages (from spacy<3.8.0,>=3.7.2->en-core-web-sm==3.7.1) (3.1.2)\n",
      "Requirement already satisfied: setuptools in c:\\users\\sakpa\\anaconda3\\lib\\site-packages (from spacy<3.8.0,>=3.7.2->en-core-web-sm==3.7.1) (78.1.1)\n",
      "Requirement already satisfied: packaging>=20.0 in c:\\users\\sakpa\\anaconda3\\lib\\site-packages (from spacy<3.8.0,>=3.7.2->en-core-web-sm==3.7.1) (24.1)\n",
      "Requirement already satisfied: langcodes<4.0.0,>=3.2.0 in c:\\users\\sakpa\\anaconda3\\lib\\site-packages (from spacy<3.8.0,>=3.7.2->en-core-web-sm==3.7.1) (3.4.0)\n",
      "Requirement already satisfied: numpy>=1.19.0 in c:\\users\\sakpa\\anaconda3\\lib\\site-packages (from spacy<3.8.0,>=3.7.2->en-core-web-sm==3.7.1) (1.24.4)\n",
      "Requirement already satisfied: language-data>=1.2 in c:\\users\\sakpa\\anaconda3\\lib\\site-packages (from langcodes<4.0.0,>=3.2.0->spacy<3.8.0,>=3.7.2->en-core-web-sm==3.7.1) (1.2.0)\n",
      "Requirement already satisfied: annotated-types>=0.6.0 in c:\\users\\sakpa\\anaconda3\\lib\\site-packages (from pydantic!=1.8,!=1.8.1,<3.0.0,>=1.7.4->spacy<3.8.0,>=3.7.2->en-core-web-sm==3.7.1) (0.7.0)\n",
      "Requirement already satisfied: pydantic-core==2.27.2 in c:\\users\\sakpa\\anaconda3\\lib\\site-packages (from pydantic!=1.8,!=1.8.1,<3.0.0,>=1.7.4->spacy<3.8.0,>=3.7.2->en-core-web-sm==3.7.1) (2.27.2)\n",
      "Requirement already satisfied: typing-extensions>=4.12.2 in c:\\users\\sakpa\\anaconda3\\lib\\site-packages (from pydantic!=1.8,!=1.8.1,<3.0.0,>=1.7.4->spacy<3.8.0,>=3.7.2->en-core-web-sm==3.7.1) (4.12.2)\n",
      "Requirement already satisfied: charset-normalizer<4,>=2 in c:\\users\\sakpa\\anaconda3\\lib\\site-packages (from requests<3.0.0,>=2.13.0->spacy<3.8.0,>=3.7.2->en-core-web-sm==3.7.1) (2.0.4)\n",
      "Requirement already satisfied: idna<4,>=2.5 in c:\\users\\sakpa\\anaconda3\\lib\\site-packages (from requests<3.0.0,>=2.13.0->spacy<3.8.0,>=3.7.2->en-core-web-sm==3.7.1) (2.10)\n",
      "Requirement already satisfied: urllib3<3,>=1.21.1 in c:\\users\\sakpa\\anaconda3\\lib\\site-packages (from requests<3.0.0,>=2.13.0->spacy<3.8.0,>=3.7.2->en-core-web-sm==3.7.1) (1.26.20)\n",
      "Requirement already satisfied: certifi>=2017.4.17 in c:\\users\\sakpa\\anaconda3\\lib\\site-packages (from requests<3.0.0,>=2.13.0->spacy<3.8.0,>=3.7.2->en-core-web-sm==3.7.1) (2025.1.31)\n",
      "Requirement already satisfied: blis<0.8.0,>=0.7.8 in c:\\users\\sakpa\\anaconda3\\lib\\site-packages (from thinc<8.3.0,>=8.2.2->spacy<3.8.0,>=3.7.2->en-core-web-sm==3.7.1) (0.7.11)\n",
      "Requirement already satisfied: confection<1.0.0,>=0.0.1 in c:\\users\\sakpa\\anaconda3\\lib\\site-packages (from thinc<8.3.0,>=8.2.2->spacy<3.8.0,>=3.7.2->en-core-web-sm==3.7.1) (0.1.5)\n",
      "Requirement already satisfied: colorama in c:\\users\\sakpa\\anaconda3\\lib\\site-packages (from tqdm<5.0.0,>=4.38.0->spacy<3.8.0,>=3.7.2->en-core-web-sm==3.7.1) (0.4.6)\n",
      "Requirement already satisfied: click>=8.0.0 in c:\\users\\sakpa\\anaconda3\\lib\\site-packages (from typer<1.0.0,>=0.3.0->spacy<3.8.0,>=3.7.2->en-core-web-sm==3.7.1) (8.1.7)\n",
      "Requirement already satisfied: shellingham>=1.3.0 in c:\\users\\sakpa\\anaconda3\\lib\\site-packages (from typer<1.0.0,>=0.3.0->spacy<3.8.0,>=3.7.2->en-core-web-sm==3.7.1) (1.5.4)\n",
      "Requirement already satisfied: rich>=10.11.0 in c:\\users\\sakpa\\anaconda3\\lib\\site-packages (from typer<1.0.0,>=0.3.0->spacy<3.8.0,>=3.7.2->en-core-web-sm==3.7.1) (13.7.1)\n",
      "Requirement already satisfied: cloudpathlib<1.0.0,>=0.7.0 in c:\\users\\sakpa\\anaconda3\\lib\\site-packages (from weasel<0.5.0,>=0.1.0->spacy<3.8.0,>=3.7.2->en-core-web-sm==3.7.1) (0.18.1)\n",
      "Requirement already satisfied: smart-open<8.0.0,>=5.2.1 in c:\\users\\sakpa\\anaconda3\\lib\\site-packages (from weasel<0.5.0,>=0.1.0->spacy<3.8.0,>=3.7.2->en-core-web-sm==3.7.1) (5.2.1)\n",
      "Requirement already satisfied: MarkupSafe>=2.0 in c:\\users\\sakpa\\anaconda3\\lib\\site-packages (from jinja2->spacy<3.8.0,>=3.7.2->en-core-web-sm==3.7.1) (2.1.1)\n",
      "Requirement already satisfied: marisa-trie>=0.7.7 in c:\\users\\sakpa\\anaconda3\\lib\\site-packages (from language-data>=1.2->langcodes<4.0.0,>=3.2.0->spacy<3.8.0,>=3.7.2->en-core-web-sm==3.7.1) (1.2.0)\n",
      "Requirement already satisfied: markdown-it-py>=2.2.0 in c:\\users\\sakpa\\anaconda3\\lib\\site-packages (from rich>=10.11.0->typer<1.0.0,>=0.3.0->spacy<3.8.0,>=3.7.2->en-core-web-sm==3.7.1) (2.2.0)\n",
      "Requirement already satisfied: pygments<3.0.0,>=2.13.0 in c:\\users\\sakpa\\anaconda3\\lib\\site-packages (from rich>=10.11.0->typer<1.0.0,>=0.3.0->spacy<3.8.0,>=3.7.2->en-core-web-sm==3.7.1) (2.15.1)\n",
      "Requirement already satisfied: mdurl~=0.1 in c:\\users\\sakpa\\anaconda3\\lib\\site-packages (from markdown-it-py>=2.2.0->rich>=10.11.0->typer<1.0.0,>=0.3.0->spacy<3.8.0,>=3.7.2->en-core-web-sm==3.7.1) (0.1.0)\n",
      "\u001b[38;5;2m✔ Download and installation successful\u001b[0m\n",
      "You can now load the package via spacy.load('en_core_web_sm')\n"
     ]
    },
    {
     "name": "stderr",
     "output_type": "stream",
     "text": [
      "c:\\Users\\sakpa\\anaconda3\\Lib\\site-packages\\torch\\utils\\_pytree.py:185: FutureWarning: optree is installed but the version is too old to support PyTorch Dynamo in C++ pytree. C++ pytree support is disabled. Please consider upgrading optree using `python3 -m pip install --upgrade 'optree>=0.13.0'`.\n",
      "  warnings.warn(\n",
      "c:\\Users\\sakpa\\anaconda3\\Lib\\site-packages\\torch\\utils\\_pytree.py:185: FutureWarning: optree is installed but the version is too old to support PyTorch Dynamo in C++ pytree. C++ pytree support is disabled. Please consider upgrading optree using `python3 -m pip install --upgrade 'optree>=0.13.0'`.\n",
      "  warnings.warn(\n"
     ]
    },
    {
     "name": "stdout",
     "output_type": "stream",
     "text": [
      "Collecting en-core-web-trf==3.7.3\n",
      "  Downloading https://github.com/explosion/spacy-models/releases/download/en_core_web_trf-3.7.3/en_core_web_trf-3.7.3-py3-none-any.whl (457.4 MB)\n",
      "     ---------------------------------------- 0.0/457.4 MB ? eta -:--:--\n",
      "     ---------------------------------------- 0.0/457.4 MB ? eta -:--:--\n",
      "     ---------------------------------------- 0.8/457.4 MB 4.8 MB/s eta 0:01:35\n",
      "     ---------------------------------------- 3.4/457.4 MB 9.6 MB/s eta 0:00:48\n",
      "      -------------------------------------- 9.4/457.4 MB 17.3 MB/s eta 0:00:26\n",
      "     - ------------------------------------ 16.5/457.4 MB 21.7 MB/s eta 0:00:21\n",
      "     - ------------------------------------ 23.3/457.4 MB 24.2 MB/s eta 0:00:18\n",
      "     -- ----------------------------------- 29.9/457.4 MB 25.3 MB/s eta 0:00:17\n",
      "     --- ---------------------------------- 37.0/457.4 MB 26.4 MB/s eta 0:00:16\n",
      "     --- ---------------------------------- 43.3/457.4 MB 27.2 MB/s eta 0:00:16\n",
      "     ---- --------------------------------- 50.1/457.4 MB 27.7 MB/s eta 0:00:15\n",
      "     ---- --------------------------------- 56.4/457.4 MB 27.8 MB/s eta 0:00:15\n",
      "     ----- -------------------------------- 63.7/457.4 MB 28.4 MB/s eta 0:00:14\n",
      "     ----- -------------------------------- 70.3/457.4 MB 28.5 MB/s eta 0:00:14\n",
      "     ------ ------------------------------- 76.0/457.4 MB 28.5 MB/s eta 0:00:14\n",
      "     ------ ------------------------------- 82.8/457.4 MB 28.7 MB/s eta 0:00:14\n",
      "     ------- ------------------------------ 89.1/457.4 MB 28.9 MB/s eta 0:00:13\n",
      "     ------- ------------------------------ 95.7/457.4 MB 28.9 MB/s eta 0:00:13\n",
      "     -------- ---------------------------- 102.8/457.4 MB 29.2 MB/s eta 0:00:13\n",
      "     -------- ---------------------------- 109.1/457.4 MB 29.3 MB/s eta 0:00:12\n",
      "     --------- --------------------------- 116.4/457.4 MB 29.5 MB/s eta 0:00:12\n",
      "     --------- --------------------------- 123.2/457.4 MB 29.7 MB/s eta 0:00:12\n",
      "     ---------- -------------------------- 129.8/457.4 MB 29.8 MB/s eta 0:00:11\n",
      "     ----------- ------------------------- 137.1/457.4 MB 30.0 MB/s eta 0:00:11\n",
      "     ----------- ------------------------- 144.2/457.4 MB 30.1 MB/s eta 0:00:11\n",
      "     ------------ ------------------------ 150.7/457.4 MB 30.2 MB/s eta 0:00:11\n",
      "     ------------ ------------------------ 157.8/457.4 MB 30.3 MB/s eta 0:00:10\n",
      "     ------------- ----------------------- 164.4/457.4 MB 30.4 MB/s eta 0:00:10\n",
      "     ------------- ----------------------- 171.7/457.4 MB 30.5 MB/s eta 0:00:10\n",
      "     -------------- ---------------------- 178.5/457.4 MB 30.6 MB/s eta 0:00:10\n",
      "     -------------- ---------------------- 184.8/457.4 MB 30.5 MB/s eta 0:00:09\n",
      "     --------------- --------------------- 190.6/457.4 MB 30.5 MB/s eta 0:00:09\n",
      "     --------------- --------------------- 197.7/457.4 MB 30.5 MB/s eta 0:00:09\n",
      "     ---------------- -------------------- 204.7/457.4 MB 30.6 MB/s eta 0:00:09\n",
      "     ----------------- ------------------- 211.8/457.4 MB 30.6 MB/s eta 0:00:09\n",
      "     ----------------- ------------------- 218.6/457.4 MB 30.6 MB/s eta 0:00:08\n",
      "     ------------------ ------------------ 225.4/457.4 MB 30.7 MB/s eta 0:00:08\n",
      "     ------------------ ------------------ 232.5/457.4 MB 30.7 MB/s eta 0:00:08\n",
      "     ------------------- ----------------- 239.3/457.4 MB 30.8 MB/s eta 0:00:08\n",
      "     ------------------- ----------------- 246.4/457.4 MB 30.8 MB/s eta 0:00:07\n",
      "     -------------------- ---------------- 253.5/457.4 MB 30.9 MB/s eta 0:00:07\n",
      "     --------------------- --------------- 260.0/457.4 MB 30.8 MB/s eta 0:00:07\n",
      "     --------------------- --------------- 266.6/457.4 MB 31.6 MB/s eta 0:00:07\n",
      "     ---------------------- -------------- 272.9/457.4 MB 31.7 MB/s eta 0:00:06\n",
      "     ---------------------- -------------- 279.7/457.4 MB 31.7 MB/s eta 0:00:06\n",
      "     ----------------------- ------------- 285.7/457.4 MB 31.6 MB/s eta 0:00:06\n",
      "     ----------------------- ------------- 292.3/457.4 MB 31.6 MB/s eta 0:00:06\n",
      "     ------------------------ ------------ 298.3/457.4 MB 31.6 MB/s eta 0:00:06\n",
      "     ------------------------ ------------ 304.6/457.4 MB 31.4 MB/s eta 0:00:05\n",
      "     ------------------------- ----------- 310.4/457.4 MB 31.3 MB/s eta 0:00:05\n",
      "     ------------------------- ----------- 316.4/457.4 MB 31.3 MB/s eta 0:00:05\n",
      "     ------------------------- ----------- 321.1/457.4 MB 31.1 MB/s eta 0:00:05\n",
      "     -------------------------- ---------- 327.2/457.4 MB 30.9 MB/s eta 0:00:05\n",
      "     -------------------------- ---------- 333.2/457.4 MB 30.9 MB/s eta 0:00:05\n",
      "     --------------------------- --------- 339.5/457.4 MB 30.9 MB/s eta 0:00:04\n",
      "     --------------------------- --------- 345.8/457.4 MB 30.8 MB/s eta 0:00:04\n",
      "     ---------------------------- -------- 352.3/457.4 MB 30.8 MB/s eta 0:00:04\n",
      "     ----------------------------- ------- 359.4/457.4 MB 30.9 MB/s eta 0:00:04\n",
      "     ----------------------------- ------- 366.2/457.4 MB 30.8 MB/s eta 0:00:03\n",
      "     ------------------------------ ------ 372.8/457.4 MB 30.8 MB/s eta 0:00:03\n",
      "     ------------------------------ ------ 379.1/457.4 MB 30.8 MB/s eta 0:00:03\n",
      "     ------------------------------- ----- 385.6/457.4 MB 30.8 MB/s eta 0:00:03\n",
      "     ------------------------------- ----- 391.9/457.4 MB 30.7 MB/s eta 0:00:03\n",
      "     -------------------------------- ---- 398.7/457.4 MB 30.6 MB/s eta 0:00:02\n",
      "     -------------------------------- ---- 405.3/457.4 MB 30.6 MB/s eta 0:00:02\n",
      "     --------------------------------- --- 412.1/457.4 MB 30.6 MB/s eta 0:00:02\n",
      "     --------------------------------- --- 418.4/457.4 MB 30.5 MB/s eta 0:00:02\n",
      "     ---------------------------------- -- 425.2/457.4 MB 30.5 MB/s eta 0:00:02\n",
      "     ---------------------------------- -- 432.0/457.4 MB 30.5 MB/s eta 0:00:01\n",
      "     ----------------------------------- - 438.8/457.4 MB 30.5 MB/s eta 0:00:01\n",
      "     ------------------------------------  445.6/457.4 MB 30.5 MB/s eta 0:00:01\n",
      "     ------------------------------------  452.5/457.4 MB 30.6 MB/s eta 0:00:01\n",
      "     ------------------------------------  457.2/457.4 MB 30.6 MB/s eta 0:00:01\n",
      "     ------------------------------------  457.2/457.4 MB 30.6 MB/s eta 0:00:01\n",
      "     ------------------------------------  457.2/457.4 MB 30.6 MB/s eta 0:00:01\n",
      "     ------------------------------------  457.2/457.4 MB 30.6 MB/s eta 0:00:01\n",
      "     ------------------------------------- 457.4/457.4 MB 27.9 MB/s eta 0:00:00\n",
      "Requirement already satisfied: spacy<3.8.0,>=3.7.2 in c:\\users\\sakpa\\anaconda3\\lib\\site-packages (from en-core-web-trf==3.7.3) (3.7.5)\n",
      "Requirement already satisfied: spacy-curated-transformers<0.3.0,>=0.2.0 in c:\\users\\sakpa\\anaconda3\\lib\\site-packages (from en-core-web-trf==3.7.3) (0.2.2)\n",
      "Requirement already satisfied: spacy-legacy<3.1.0,>=3.0.11 in c:\\users\\sakpa\\anaconda3\\lib\\site-packages (from spacy<3.8.0,>=3.7.2->en-core-web-trf==3.7.3) (3.0.12)\n",
      "Requirement already satisfied: spacy-loggers<2.0.0,>=1.0.0 in c:\\users\\sakpa\\anaconda3\\lib\\site-packages (from spacy<3.8.0,>=3.7.2->en-core-web-trf==3.7.3) (1.0.5)\n",
      "Requirement already satisfied: murmurhash<1.1.0,>=0.28.0 in c:\\users\\sakpa\\anaconda3\\lib\\site-packages (from spacy<3.8.0,>=3.7.2->en-core-web-trf==3.7.3) (1.0.10)\n",
      "Requirement already satisfied: cymem<2.1.0,>=2.0.2 in c:\\users\\sakpa\\anaconda3\\lib\\site-packages (from spacy<3.8.0,>=3.7.2->en-core-web-trf==3.7.3) (2.0.8)\n",
      "Requirement already satisfied: preshed<3.1.0,>=3.0.2 in c:\\users\\sakpa\\anaconda3\\lib\\site-packages (from spacy<3.8.0,>=3.7.2->en-core-web-trf==3.7.3) (3.0.9)\n",
      "Requirement already satisfied: thinc<8.3.0,>=8.2.2 in c:\\users\\sakpa\\anaconda3\\lib\\site-packages (from spacy<3.8.0,>=3.7.2->en-core-web-trf==3.7.3) (8.2.5)\n",
      "Requirement already satisfied: wasabi<1.2.0,>=0.9.1 in c:\\users\\sakpa\\anaconda3\\lib\\site-packages (from spacy<3.8.0,>=3.7.2->en-core-web-trf==3.7.3) (1.1.3)\n",
      "Requirement already satisfied: srsly<3.0.0,>=2.4.3 in c:\\users\\sakpa\\anaconda3\\lib\\site-packages (from spacy<3.8.0,>=3.7.2->en-core-web-trf==3.7.3) (2.4.8)\n",
      "Requirement already satisfied: catalogue<2.1.0,>=2.0.6 in c:\\users\\sakpa\\anaconda3\\lib\\site-packages (from spacy<3.8.0,>=3.7.2->en-core-web-trf==3.7.3) (2.0.10)\n",
      "Requirement already satisfied: weasel<0.5.0,>=0.1.0 in c:\\users\\sakpa\\anaconda3\\lib\\site-packages (from spacy<3.8.0,>=3.7.2->en-core-web-trf==3.7.3) (0.4.1)\n",
      "Requirement already satisfied: typer<1.0.0,>=0.3.0 in c:\\users\\sakpa\\anaconda3\\lib\\site-packages (from spacy<3.8.0,>=3.7.2->en-core-web-trf==3.7.3) (0.12.3)\n",
      "Requirement already satisfied: tqdm<5.0.0,>=4.38.0 in c:\\users\\sakpa\\anaconda3\\lib\\site-packages (from spacy<3.8.0,>=3.7.2->en-core-web-trf==3.7.3) (4.67.0)\n",
      "Requirement already satisfied: requests<3.0.0,>=2.13.0 in c:\\users\\sakpa\\anaconda3\\lib\\site-packages (from spacy<3.8.0,>=3.7.2->en-core-web-trf==3.7.3) (2.31.0)\n",
      "Requirement already satisfied: pydantic!=1.8,!=1.8.1,<3.0.0,>=1.7.4 in c:\\users\\sakpa\\anaconda3\\lib\\site-packages (from spacy<3.8.0,>=3.7.2->en-core-web-trf==3.7.3) (2.10.6)\n",
      "Requirement already satisfied: jinja2 in c:\\users\\sakpa\\anaconda3\\lib\\site-packages (from spacy<3.8.0,>=3.7.2->en-core-web-trf==3.7.3) (3.1.2)\n",
      "Requirement already satisfied: setuptools in c:\\users\\sakpa\\anaconda3\\lib\\site-packages (from spacy<3.8.0,>=3.7.2->en-core-web-trf==3.7.3) (78.1.1)\n",
      "Requirement already satisfied: packaging>=20.0 in c:\\users\\sakpa\\anaconda3\\lib\\site-packages (from spacy<3.8.0,>=3.7.2->en-core-web-trf==3.7.3) (24.1)\n",
      "Requirement already satisfied: langcodes<4.0.0,>=3.2.0 in c:\\users\\sakpa\\anaconda3\\lib\\site-packages (from spacy<3.8.0,>=3.7.2->en-core-web-trf==3.7.3) (3.4.0)\n",
      "Requirement already satisfied: numpy>=1.19.0 in c:\\users\\sakpa\\anaconda3\\lib\\site-packages (from spacy<3.8.0,>=3.7.2->en-core-web-trf==3.7.3) (1.24.4)\n",
      "Requirement already satisfied: curated-transformers<0.2.0,>=0.1.0 in c:\\users\\sakpa\\anaconda3\\lib\\site-packages (from spacy-curated-transformers<0.3.0,>=0.2.0->en-core-web-trf==3.7.3) (0.1.1)\n",
      "Requirement already satisfied: curated-tokenizers<0.1.0,>=0.0.9 in c:\\users\\sakpa\\anaconda3\\lib\\site-packages (from spacy-curated-transformers<0.3.0,>=0.2.0->en-core-web-trf==3.7.3) (0.0.9)\n",
      "Requirement already satisfied: torch>=1.12.0 in c:\\users\\sakpa\\anaconda3\\lib\\site-packages (from spacy-curated-transformers<0.3.0,>=0.2.0->en-core-web-trf==3.7.3) (2.6.0)\n",
      "Requirement already satisfied: regex>=2022 in c:\\users\\sakpa\\anaconda3\\lib\\site-packages (from curated-tokenizers<0.1.0,>=0.0.9->spacy-curated-transformers<0.3.0,>=0.2.0->en-core-web-trf==3.7.3) (2022.7.9)\n",
      "Requirement already satisfied: language-data>=1.2 in c:\\users\\sakpa\\anaconda3\\lib\\site-packages (from langcodes<4.0.0,>=3.2.0->spacy<3.8.0,>=3.7.2->en-core-web-trf==3.7.3) (1.2.0)\n",
      "Requirement already satisfied: annotated-types>=0.6.0 in c:\\users\\sakpa\\anaconda3\\lib\\site-packages (from pydantic!=1.8,!=1.8.1,<3.0.0,>=1.7.4->spacy<3.8.0,>=3.7.2->en-core-web-trf==3.7.3) (0.7.0)\n",
      "Requirement already satisfied: pydantic-core==2.27.2 in c:\\users\\sakpa\\anaconda3\\lib\\site-packages (from pydantic!=1.8,!=1.8.1,<3.0.0,>=1.7.4->spacy<3.8.0,>=3.7.2->en-core-web-trf==3.7.3) (2.27.2)\n",
      "Requirement already satisfied: typing-extensions>=4.12.2 in c:\\users\\sakpa\\anaconda3\\lib\\site-packages (from pydantic!=1.8,!=1.8.1,<3.0.0,>=1.7.4->spacy<3.8.0,>=3.7.2->en-core-web-trf==3.7.3) (4.12.2)\n",
      "Requirement already satisfied: charset-normalizer<4,>=2 in c:\\users\\sakpa\\anaconda3\\lib\\site-packages (from requests<3.0.0,>=2.13.0->spacy<3.8.0,>=3.7.2->en-core-web-trf==3.7.3) (2.0.4)\n",
      "Requirement already satisfied: idna<4,>=2.5 in c:\\users\\sakpa\\anaconda3\\lib\\site-packages (from requests<3.0.0,>=2.13.0->spacy<3.8.0,>=3.7.2->en-core-web-trf==3.7.3) (2.10)\n",
      "Requirement already satisfied: urllib3<3,>=1.21.1 in c:\\users\\sakpa\\anaconda3\\lib\\site-packages (from requests<3.0.0,>=2.13.0->spacy<3.8.0,>=3.7.2->en-core-web-trf==3.7.3) (1.26.20)\n",
      "Requirement already satisfied: certifi>=2017.4.17 in c:\\users\\sakpa\\anaconda3\\lib\\site-packages (from requests<3.0.0,>=2.13.0->spacy<3.8.0,>=3.7.2->en-core-web-trf==3.7.3) (2025.1.31)\n",
      "Requirement already satisfied: blis<0.8.0,>=0.7.8 in c:\\users\\sakpa\\anaconda3\\lib\\site-packages (from thinc<8.3.0,>=8.2.2->spacy<3.8.0,>=3.7.2->en-core-web-trf==3.7.3) (0.7.11)\n",
      "Requirement already satisfied: confection<1.0.0,>=0.0.1 in c:\\users\\sakpa\\anaconda3\\lib\\site-packages (from thinc<8.3.0,>=8.2.2->spacy<3.8.0,>=3.7.2->en-core-web-trf==3.7.3) (0.1.5)\n",
      "Requirement already satisfied: filelock in c:\\users\\sakpa\\anaconda3\\lib\\site-packages (from torch>=1.12.0->spacy-curated-transformers<0.3.0,>=0.2.0->en-core-web-trf==3.7.3) (3.15.4)\n",
      "Requirement already satisfied: networkx in c:\\users\\sakpa\\anaconda3\\lib\\site-packages (from torch>=1.12.0->spacy-curated-transformers<0.3.0,>=0.2.0->en-core-web-trf==3.7.3) (3.1)\n",
      "Requirement already satisfied: fsspec in c:\\users\\sakpa\\anaconda3\\lib\\site-packages (from torch>=1.12.0->spacy-curated-transformers<0.3.0,>=0.2.0->en-core-web-trf==3.7.3) (2024.10.0)\n",
      "Requirement already satisfied: sympy==1.13.1 in c:\\users\\sakpa\\anaconda3\\lib\\site-packages (from torch>=1.12.0->spacy-curated-transformers<0.3.0,>=0.2.0->en-core-web-trf==3.7.3) (1.13.1)\n",
      "Requirement already satisfied: mpmath<1.4,>=1.1.0 in c:\\users\\sakpa\\anaconda3\\lib\\site-packages (from sympy==1.13.1->torch>=1.12.0->spacy-curated-transformers<0.3.0,>=0.2.0->en-core-web-trf==3.7.3) (1.3.0)\n",
      "Requirement already satisfied: colorama in c:\\users\\sakpa\\anaconda3\\lib\\site-packages (from tqdm<5.0.0,>=4.38.0->spacy<3.8.0,>=3.7.2->en-core-web-trf==3.7.3) (0.4.6)\n",
      "Requirement already satisfied: click>=8.0.0 in c:\\users\\sakpa\\anaconda3\\lib\\site-packages (from typer<1.0.0,>=0.3.0->spacy<3.8.0,>=3.7.2->en-core-web-trf==3.7.3) (8.1.7)\n",
      "Requirement already satisfied: shellingham>=1.3.0 in c:\\users\\sakpa\\anaconda3\\lib\\site-packages (from typer<1.0.0,>=0.3.0->spacy<3.8.0,>=3.7.2->en-core-web-trf==3.7.3) (1.5.4)\n",
      "Requirement already satisfied: rich>=10.11.0 in c:\\users\\sakpa\\anaconda3\\lib\\site-packages (from typer<1.0.0,>=0.3.0->spacy<3.8.0,>=3.7.2->en-core-web-trf==3.7.3) (13.7.1)\n",
      "Requirement already satisfied: cloudpathlib<1.0.0,>=0.7.0 in c:\\users\\sakpa\\anaconda3\\lib\\site-packages (from weasel<0.5.0,>=0.1.0->spacy<3.8.0,>=3.7.2->en-core-web-trf==3.7.3) (0.18.1)\n",
      "Requirement already satisfied: smart-open<8.0.0,>=5.2.1 in c:\\users\\sakpa\\anaconda3\\lib\\site-packages (from weasel<0.5.0,>=0.1.0->spacy<3.8.0,>=3.7.2->en-core-web-trf==3.7.3) (5.2.1)\n",
      "Requirement already satisfied: MarkupSafe>=2.0 in c:\\users\\sakpa\\anaconda3\\lib\\site-packages (from jinja2->spacy<3.8.0,>=3.7.2->en-core-web-trf==3.7.3) (2.1.1)\n",
      "Requirement already satisfied: marisa-trie>=0.7.7 in c:\\users\\sakpa\\anaconda3\\lib\\site-packages (from language-data>=1.2->langcodes<4.0.0,>=3.2.0->spacy<3.8.0,>=3.7.2->en-core-web-trf==3.7.3) (1.2.0)\n",
      "Requirement already satisfied: markdown-it-py>=2.2.0 in c:\\users\\sakpa\\anaconda3\\lib\\site-packages (from rich>=10.11.0->typer<1.0.0,>=0.3.0->spacy<3.8.0,>=3.7.2->en-core-web-trf==3.7.3) (2.2.0)\n",
      "Requirement already satisfied: pygments<3.0.0,>=2.13.0 in c:\\users\\sakpa\\anaconda3\\lib\\site-packages (from rich>=10.11.0->typer<1.0.0,>=0.3.0->spacy<3.8.0,>=3.7.2->en-core-web-trf==3.7.3) (2.15.1)\n",
      "Requirement already satisfied: mdurl~=0.1 in c:\\users\\sakpa\\anaconda3\\lib\\site-packages (from markdown-it-py>=2.2.0->rich>=10.11.0->typer<1.0.0,>=0.3.0->spacy<3.8.0,>=3.7.2->en-core-web-trf==3.7.3) (0.1.0)\n",
      "\u001b[38;5;2m✔ Download and installation successful\u001b[0m\n",
      "You can now load the package via spacy.load('en_core_web_trf')\n"
     ]
    }
   ],
   "source": [
    "# Ensure the spacy model is installed\n",
    "!python -m spacy download en_core_web_sm\n",
    "!python -m spacy download en_core_web_trf\n",
    "\n",
    "# Load spacy model for NER\n",
    "nlp = spacy.load(\"en_core_web_sm\")\n"
   ]
  },
  {
   "cell_type": "code",
   "execution_count": 8,
   "metadata": {},
   "outputs": [],
   "source": [
    "def extract_text_from_pdf(file_path):\n",
    "    # Set the tesseract executable path\n",
    "    pytesseract.pytesseract.tesseract_cmd = r'C:\\Program Files\\Tesseract-OCR\\tesseract.exe'  # Update this path as per your installation\n",
    "    images = convert_from_path(file_path, dpi=300)\n",
    "    text = ''\n",
    "    for i, image in enumerate(images):\n",
    "        text += pytesseract.image_to_string(image)\n",
    "    return text    \n"
   ]
  },
  {
   "cell_type": "code",
   "execution_count": 9,
   "metadata": {},
   "outputs": [],
   "source": [
    "# Create a function named read_pdf_files(), this should loop through ../data/fake_email_data folder and get all the pdf files in the folder using glob\n",
    "def read_pdf_files(folder_path):\n",
    "    email_files_txt = []\n",
    "    pdf_files = glob.glob(os.path.join(folder_path, \"*.pdf\"))\n",
    "    for pdf_file in pdf_files:\n",
    "        text = extract_text_from_pdf(pdf_file)\n",
    "        email_files_txt.append({\n",
    "            'file_name': os.path.basename(pdf_file),\n",
    "            'text': text\n",
    "        })\n",
    "    return email_files_txt\n",
    "    "
   ]
  },
  {
   "cell_type": "code",
   "execution_count": 10,
   "metadata": {},
   "outputs": [],
   "source": [
    "path = '../data/fake_email_data'\n",
    "# Call the function to read PDF files\n",
    "email_files_txt = read_pdf_files(path)"
   ]
  },
  {
   "cell_type": "code",
   "execution_count": 11,
   "metadata": {},
   "outputs": [],
   "source": [
    "# Custom presidio analyzer for Account Number detection\n",
    "from presidio_analyzer import Pattern\n",
    "\n",
    "\n",
    "\n",
    "\n",
    "def custom_account_number_recognizer():\n",
    "    #acct_regex = r\"(?:\\b(?:Account|Ac|Act|transfer)\\b[\\s:,-]*)?(?:0230[.-]?)?\\d{5}[.-]?[A-Za-z\\d]{2,3}\"\n",
    "    acct_regex = r'(?:\\b(?:Account|Ac|Act|transfer)\\b[\\s:,-]*)?(?:0230[.-]?)?\\d{5}[.-]?(?=[A-Za-z\\d]{2,3}\\b)(?=(?:[^0-9]*[0-9])?[^0-9]*$)[A-Za-z\\d]{2,3}'\n",
    "\n",
    "    account_number_pattern = Pattern(name=\"account_number_pattern\",\n",
    "                                 regex=acct_regex,\n",
    "                                 score=0.85\n",
    "\n",
    "                                 )\n",
    "    # Create a Pattern Recognizer\n",
    "    account_number_recognizer = PatternRecognizer(supported_entity=\"ACCOUNT_NUMBER\", \n",
    "                                                  patterns=[account_number_pattern]\n",
    "                                                  )\n",
    "    \n",
    "    return account_number_recognizer\n",
    "\n"
   ]
  },
  {
   "cell_type": "code",
   "execution_count": 12,
   "metadata": {},
   "outputs": [],
   "source": [
    "def custom_isin_recognizer():\n",
    "    isin_regex = r\"\\b([a-z]{2}\\d{10})|([a-z]{3}[0-9]{1}[0-9a-z]{9})|([a-z]{2}[0-9]{1}[0-9a-z]{9})|([a-z]{3}[0-9]{1}[0-9a-z]{8})|([a-z]{2}\\-\\d{9}\\-\\d)|([a-z]{2}\\-[0-9]{1}[0-9a-z]{8}\\-\\d)|([a-z]{3}\\-[0-9]{1}[0-9a-z]{7}\\-\\d)\"\n",
    "    isin_pattern = Pattern(name=\"isin_pattern\",\n",
    "                           regex=isin_regex,\n",
    "                           score=0.90\n",
    "                           )\n",
    "    # Create a Pattern Recognizer\n",
    "    isin_recognizer = PatternRecognizer(supported_entity=\"ISIN\", \n",
    "                                        patterns=[isin_pattern]\n",
    "                                        )\n",
    "    \n",
    "    return isin_recognizer"
   ]
  },
  {
   "cell_type": "code",
   "execution_count": 13,
   "metadata": {},
   "outputs": [],
   "source": [
    "def custom_address_recognizer():\n",
    "        spacy_recognizer = SpacyRecognizer()\n",
    "        spacy_recognizer.load()\n",
    "        spacy_recognizer.supported_entities = [\"LOCATION\", \"GPE\", \"LOC\"]\n",
    "        return spacy_recognizer\n"
   ]
  },
  {
   "cell_type": "markdown",
   "metadata": {},
   "source": [
    "## Transformer Model Usage \n",
    "---"
   ]
  },
  {
   "cell_type": "code",
   "execution_count": 14,
   "metadata": {},
   "outputs": [],
   "source": [
    "import transformers\n",
    "from transformers import AutoTokenizer, AutoModelForTokenClassification\n",
    "from transformers import pipeline"
   ]
  },
  {
   "cell_type": "code",
   "execution_count": 15,
   "metadata": {},
   "outputs": [
    {
     "name": "stderr",
     "output_type": "stream",
     "text": [
      "Some weights of the model checkpoint at dslim/bert-base-NER were not used when initializing BertForTokenClassification: ['bert.pooler.dense.bias', 'bert.pooler.dense.weight']\n",
      "- This IS expected if you are initializing BertForTokenClassification from the checkpoint of a model trained on another task or with another architecture (e.g. initializing a BertForSequenceClassification model from a BertForPreTraining model).\n",
      "- This IS NOT expected if you are initializing BertForTokenClassification from the checkpoint of a model that you expect to be exactly identical (initializing a BertForSequenceClassification model from a BertForSequenceClassification model).\n"
     ]
    }
   ],
   "source": [
    "model_name = \"dslim/bert-base-NER\"\n",
    "tokenizer = AutoTokenizer.from_pretrained(model_name)\n",
    "model = AutoModelForTokenClassification.from_pretrained(model_name)"
   ]
  },
  {
   "cell_type": "code",
   "execution_count": 24,
   "metadata": {},
   "outputs": [
    {
     "data": {
      "text/plain": [
       "('../models/bert-base-NER-tokenizer\\\\tokenizer_config.json',\n",
       " '../models/bert-base-NER-tokenizer\\\\special_tokens_map.json',\n",
       " '../models/bert-base-NER-tokenizer\\\\vocab.txt',\n",
       " '../models/bert-base-NER-tokenizer\\\\added_tokens.json',\n",
       " '../models/bert-base-NER-tokenizer\\\\tokenizer.json')"
      ]
     },
     "execution_count": 24,
     "metadata": {},
     "output_type": "execute_result"
    }
   ],
   "source": [
    "# Download the model and the tokenizer and  save  locally \n",
    "\n",
    "\n",
    "model.save_pretrained(\"../models/bert-base-NER\")\n",
    "tokenizer.save_pretrained(\"../models/bert-base-NER-tokenizer\")"
   ]
  },
  {
   "cell_type": "code",
   "execution_count": 27,
   "metadata": {},
   "outputs": [],
   "source": [
    "# Load the model and tokenizer\n",
    "tokenizer = AutoTokenizer.from_pretrained(\"../models/bert-base-NER-tokenizer\")\n",
    "model = AutoModelForTokenClassification.from_pretrained(\"../models/bert-base-NER\")"
   ]
  },
  {
   "cell_type": "code",
   "execution_count": 28,
   "metadata": {},
   "outputs": [],
   "source": [
    "ner_pipeline = pipeline(\"ner\", model=model, tokenizer=tokenizer, aggregation_strategy=\"simple\")\n",
    "# Define a function to perform NER using the transformers pipeline\n",
    "def perform_ner(text):\n",
    "    entities = ner_pipeline(text)\n",
    "    # Replace the entity labels with more descriptive ones\n",
    "    for entity in entities:\n",
    "        if entity['entity_group'] == 'PER':\n",
    "            entity['entity_group'] = 'PERSON'\n",
    "        elif entity['entity_group'] == 'ORG':\n",
    "            entity['entity_group'] = 'ORGANIZATION'\n",
    "        elif entity['entity_group'] == 'LOC':\n",
    "            entity['entity_group'] = 'LOCATION'\n",
    "    return entities"
   ]
  },
  {
   "cell_type": "code",
   "execution_count": 29,
   "metadata": {},
   "outputs": [
    {
     "data": {
      "text/plain": [
       "{'entity_group': 'PERSON',\n",
       " 'score': 0.98676986,\n",
       " 'word': 'Guy Cesar Pittman',\n",
       " 'start': 31,\n",
       " 'end': 49}"
      ]
     },
     "execution_count": 29,
     "metadata": {},
     "output_type": "execute_result"
    }
   ],
   "source": [
    "x = perform_ner(email_files_txt[0]['text'])\n",
    "x[0]"
   ]
  },
  {
   "cell_type": "code",
   "execution_count": 20,
   "metadata": {},
   "outputs": [],
   "source": [
    "# Ensure the custom recognizer is registered before running the analysis\n",
    "def analyze_pdf_files(path,email_files_txt):\n",
    "\tpresidio_results_df = None\n",
    "\n",
    "\tprint(\"Starting PDF analysis...\")\n",
    "\t\n",
    "\t# Read the PDF files from the specified path\n",
    "\tif email_files_txt is None:\n",
    "\t\tprint(f\"Reading PDF files from {path}, start time: {time.strftime('%Y-%m-%d %H:%M:%S')}\")\n",
    "\t\temail_files_txt = read_pdf_files(path)\n",
    "\t\tprint(f\"Finished reading PDF files, end time: {time.strftime('%Y-%m-%d %H:%M:%S')}\")\n",
    "\n",
    "\telif len(email_files_txt) != len(glob.glob(os.path.join(path, \"*.pdf\"))):\n",
    "\t\tprint(f\"Reading PDF files from {path}, start time: {time.strftime('%Y-%m-%d %H:%M:%S')}\")\n",
    "\t\temail_files_txt = read_pdf_files(path)\n",
    "\t\tprint(f\"Finished reading PDF files, end time: {time.strftime('%Y-%m-%d %H:%M:%S')}\")\n",
    "\telse:\n",
    "\t\tprint(f\"PDF files already read, start time: {time.strftime('%Y-%m-%d %H:%M:%S')}\")\n",
    "\n",
    "\t# Initialize the analyzer engine with the custom recognizer - account number recognizer\n",
    "\n",
    "\taccount_recognizer = custom_account_number_recognizer()\n",
    "\n",
    "\t# Initialize the analyzer engine with the custom recognizer - ISIN recognizer\n",
    "\tisin_recognizer = custom_isin_recognizer()\n",
    "\n",
    "\t# Initialize the analyzer engine with the custom recognizer - Address recognizer\n",
    "\taddress_recognizer = custom_address_recognizer()\n",
    "\t\n",
    "\t# Create configuration containing engine name and models\n",
    "\tspacy_config = {\n",
    "\t\t\"nlp_engine_name\": \"spacy\",\n",
    "\t\t\"models\": [\n",
    "\t\t\t\t\t{\n",
    "\t\t\t\t\t\"lang_code\": \"en\", \n",
    "\t\t\t  \t\t\"model_name\": \"en_core_web_sm\"\n",
    "\t\t\t\t\t}\t\n",
    "\t\t\t\t]\n",
    "\t}  \n",
    "\n",
    "\n",
    "\n",
    "\t# Create NLP engine with spacy based transformers model\n",
    "\tnlp_engine = NlpEngineProvider(nlp_configuration=spacy_config)\n",
    "\n",
    "\t# Create NLP engine with transformers based model\n",
    "\t#nlp_engine = NlpEngineProvider(nlp_configuration=transformer_config)\n",
    "\n",
    "\n",
    "\tnlp_engine_provider = nlp_engine.create_engine()\n",
    "\n",
    "\t# Create the analyzer engine with the NLP engine provider\n",
    "\tanalyzer = AnalyzerEngine(\n",
    "\t\tnlp_engine=nlp_engine_provider\n",
    "\t)\n",
    "\n",
    "\n",
    "\t# Add the custom recognizer to the analyzer\n",
    "\tanalyzer.registry.add_recognizer(account_recognizer)\n",
    "\tanalyzer.registry.add_recognizer(isin_recognizer)\n",
    "\tanalyzer.registry.add_recognizer(address_recognizer)\n",
    "\n",
    "\n",
    "\n",
    "\t# Define the entities to analyze\n",
    "\tentities = [\"ACCOUNT_NUMBER\",\"ISIN\", \"EMAIL_ADDRESS\", \"PHONE_NUMBER\", \"CREDIT_CARD\", \"BANK_ACCOUNT\", \"IBAN\", \"PERSON\", \"LOCATION\", \"ORGANIATION\",\"LOCATION\", \"GPE\", \"LOC\"]\n",
    "\n",
    "\t# Analyze the text from the PDF files\n",
    "\tresults = []\n",
    "\tfor email_file in email_files_txt:\n",
    "\t\t\n",
    "\t\ttext = email_file.get('text')\n",
    "\t\tfile_name = email_file.get('file_name')\n",
    "\t\tanalysis_results = None\n",
    "\t\ttry:\n",
    "\t\t\tprint(f\"Analyzing file: {file_name}, time started: {time.strftime('%Y-%m-%d %H:%M:%S')}\")\n",
    "\t\t\t\n",
    "\t\t\t# Perform analysis with the custom recognizer\n",
    "\t\t\tanalysis_results = analyzer.analyze(text=text, entities= entities, language=\"en\")\n",
    "\t\t\tfor analysis_result in analysis_results:\n",
    "\t\t\t\tresults.append({\n",
    "\t\t\t\t\t'file_name': file_name,\n",
    "\t\t\t\t\t'entity': analysis_result.entity_type,\n",
    "\t\t\t\t\t'start': analysis_result.start,\n",
    "\t\t\t\t\t'end': analysis_result.end,\n",
    "\t\t\t\t\t'score': analysis_result.score,\n",
    "\t\t\t\t\t'text': text,\n",
    "\t\t\t\t\t'CID' : text[analysis_result.start:analysis_result.end],\n",
    "\t\t\t\t\t'source': 'presidio'\n",
    "\t\t\t\t\t})\n",
    "\t\t\t\t\n",
    "\t\t\t# Perform bert based analysis with the custom recognizer\n",
    "\t\t\tbert_results = perform_ner(text)\n",
    "\t\t\tfor bert_result in bert_results:\n",
    "\t\t\t\tresults.append({\n",
    "\t\t\t\t\t'file_name': file_name,\n",
    "\t\t\t\t\t'entity': bert_result['entity_group'],\n",
    "\t\t\t\t\t'start': bert_result['start'],\n",
    "\t\t\t\t\t'end': bert_result['end'],\n",
    "\t\t\t\t\t'score': bert_result['score'],\n",
    "\t\t\t\t\t'text': text,\n",
    "\t\t\t\t\t'CID' : bert_result['word'],\n",
    "\t\t\t\t\t'source': 'transformer'\n",
    "\t\t\t\t\t})\t\t\n",
    "\n",
    "\t\t\t# Add each row to a dataframe if the dataframe exists, if not create for the first time\n",
    "\t\t\tif presidio_results_df is None:\n",
    "\t\t\t\tpresidio_results_df = pd.DataFrame(results)\n",
    "\t\t\telse:\n",
    "\t\t\t\tpresidio_results_df = pd.concat([presidio_results_df, pd.DataFrame(results)], ignore_index=True)\n",
    "\n",
    "\t\texcept Exception as e:\n",
    "\t\t\tprint(f\"Error analyzing file {file_name}: {e}\")\n",
    "\t\t\tcontinue\n",
    "\t\t# Store the analysis result in the results list so that we can convert it to a dataframe later. Need to get the text, entity type and score\n",
    "\treturn presidio_results_df\n",
    "\n"
   ]
  },
  {
   "cell_type": "code",
   "execution_count": 21,
   "metadata": {},
   "outputs": [
    {
     "name": "stdout",
     "output_type": "stream",
     "text": [
      "Starting PDF analysis...\n",
      "PDF files already read, start time: 2025-04-21 13:46:51\n",
      "Analyzing file: unsettled_trade_email_0.pdf, time started: 2025-04-21 13:46:52\n",
      "Analyzing file: unsettled_trade_email_1.pdf, time started: 2025-04-21 13:46:53\n",
      "Analyzing file: unsettled_trade_email_2.pdf, time started: 2025-04-21 13:46:54\n",
      "Analyzing file: unsettled_trade_email_3.pdf, time started: 2025-04-21 13:46:54\n",
      "Analyzing file: unsettled_trade_email_4.pdf, time started: 2025-04-21 13:46:55\n",
      "Analyzing file: unsettled_trade_email_5.pdf, time started: 2025-04-21 13:46:56\n",
      "Analyzing file: unsettled_trade_email_6.pdf, time started: 2025-04-21 13:46:56\n",
      "Analyzing file: unsettled_trade_email_7.pdf, time started: 2025-04-21 13:46:57\n",
      "Analyzing file: unsettled_trade_email_8.pdf, time started: 2025-04-21 13:46:58\n",
      "Analyzing file: unsettled_trade_email_9.pdf, time started: 2025-04-21 13:46:58\n",
      "Analyzing file: unsettled_trade_email_with_table.pdf, time started: 2025-04-21 13:46:59\n"
     ]
    }
   ],
   "source": [
    "\n",
    "# Ensure the custom recognizer is registered before running the analysis\n",
    "path = '../data/fake_email_data'\n",
    "# suppress presidio warnings\n",
    "warnings.filterwarnings(\"ignore\", category=UserWarning, module=\"presidio_analyzer\")\n",
    "# Analyze the PDF files\n",
    "presidio_results_df = analyze_pdf_files(path,email_files_txt)\n"
   ]
  },
  {
   "cell_type": "code",
   "execution_count": 22,
   "metadata": {},
   "outputs": [
    {
     "data": {
      "application/vnd.microsoft.datawrangler.viewer.v0+json": {
       "columns": [
        {
         "name": "index",
         "rawType": "int64",
         "type": "integer"
        },
        {
         "name": "file_name",
         "rawType": "object",
         "type": "string"
        },
        {
         "name": "entity",
         "rawType": "object",
         "type": "string"
        },
        {
         "name": "start",
         "rawType": "int64",
         "type": "integer"
        },
        {
         "name": "end",
         "rawType": "int64",
         "type": "integer"
        },
        {
         "name": "score",
         "rawType": "float64",
         "type": "float"
        },
        {
         "name": "text",
         "rawType": "object",
         "type": "string"
        },
        {
         "name": "CID",
         "rawType": "object",
         "type": "string"
        },
        {
         "name": "source",
         "rawType": "object",
         "type": "string"
        }
       ],
       "conversionMethod": "pd.DataFrame",
       "ref": "74d56bb7-fb07-4f1d-a522-bbd02c535411",
       "rows": [
        [
         "0",
         "unsettled_trade_email_0.pdf",
         "EMAIL_ADDRESS",
         "976",
         "994",
         "1.0",
         "Unsettled Trade Notification - Guy\n\nCesar Pittman, Psychologist, educational Team, Conway Ltd Financial\nTo: Operations Group, Taylor Inc\nCC: Trade Services, Global Clearing Corp.\n\nDear Operations Group, Taylor Inc, This is to inform you that the trade detailed below has not settled as\nscheduled. We need your immediate attention to resolve this. Trade Details: [See Table Below] Issue:\nSettlement was due on 2025-04-13, but the transaction remains incomplete. Please investigate the\ncause of this delay and advise on the steps needed to finalize the settlement. Requested Action: 1.\nProvide the current status of this trade. 2. Inform us of any actions required from our side. 3. Report any\ndiscrepancies that need to be addressed. Your swift response is crucial. Please acknowledge this email\nand provide an update by 2025-04-08. Best regards, Cesar Pittman Psychologist, educational Team\nConway Ltd Financial 495 Norton Corner Apt. 188, West Charles, Czech Republic Email:\npaul94@example.net Phone: 8704353787 Fax: 001-232-449-3744x53085 Custodian Account:\n0230.29586.Nk3\n\n2025-02-17 US0563377191 | 0230.85062.Rk1\n2025-02-06 GB9310278618 | 0230.82858.KD2\n\n2025-02-19 FR6165831749 | 0230.25865.wP4\n2025-02-18 DE1756193227 | 0230.89193.Ka4\n2025-03-02 JP9273431409 | 21299\n\n",
         "paul94@example.net",
         "presidio"
        ],
        [
         "1",
         "unsettled_trade_email_0.pdf",
         "ISIN",
         "1087",
         "1099",
         "0.9",
         "Unsettled Trade Notification - Guy\n\nCesar Pittman, Psychologist, educational Team, Conway Ltd Financial\nTo: Operations Group, Taylor Inc\nCC: Trade Services, Global Clearing Corp.\n\nDear Operations Group, Taylor Inc, This is to inform you that the trade detailed below has not settled as\nscheduled. We need your immediate attention to resolve this. Trade Details: [See Table Below] Issue:\nSettlement was due on 2025-04-13, but the transaction remains incomplete. Please investigate the\ncause of this delay and advise on the steps needed to finalize the settlement. Requested Action: 1.\nProvide the current status of this trade. 2. Inform us of any actions required from our side. 3. Report any\ndiscrepancies that need to be addressed. Your swift response is crucial. Please acknowledge this email\nand provide an update by 2025-04-08. Best regards, Cesar Pittman Psychologist, educational Team\nConway Ltd Financial 495 Norton Corner Apt. 188, West Charles, Czech Republic Email:\npaul94@example.net Phone: 8704353787 Fax: 001-232-449-3744x53085 Custodian Account:\n0230.29586.Nk3\n\n2025-02-17 US0563377191 | 0230.85062.Rk1\n2025-02-06 GB9310278618 | 0230.82858.KD2\n\n2025-02-19 FR6165831749 | 0230.25865.wP4\n2025-02-18 DE1756193227 | 0230.89193.Ka4\n2025-03-02 JP9273431409 | 21299\n\n",
         "US0563377191",
         "presidio"
        ],
        [
         "2",
         "unsettled_trade_email_0.pdf",
         "ISIN",
         "1128",
         "1140",
         "0.9",
         "Unsettled Trade Notification - Guy\n\nCesar Pittman, Psychologist, educational Team, Conway Ltd Financial\nTo: Operations Group, Taylor Inc\nCC: Trade Services, Global Clearing Corp.\n\nDear Operations Group, Taylor Inc, This is to inform you that the trade detailed below has not settled as\nscheduled. We need your immediate attention to resolve this. Trade Details: [See Table Below] Issue:\nSettlement was due on 2025-04-13, but the transaction remains incomplete. Please investigate the\ncause of this delay and advise on the steps needed to finalize the settlement. Requested Action: 1.\nProvide the current status of this trade. 2. Inform us of any actions required from our side. 3. Report any\ndiscrepancies that need to be addressed. Your swift response is crucial. Please acknowledge this email\nand provide an update by 2025-04-08. Best regards, Cesar Pittman Psychologist, educational Team\nConway Ltd Financial 495 Norton Corner Apt. 188, West Charles, Czech Republic Email:\npaul94@example.net Phone: 8704353787 Fax: 001-232-449-3744x53085 Custodian Account:\n0230.29586.Nk3\n\n2025-02-17 US0563377191 | 0230.85062.Rk1\n2025-02-06 GB9310278618 | 0230.82858.KD2\n\n2025-02-19 FR6165831749 | 0230.25865.wP4\n2025-02-18 DE1756193227 | 0230.89193.Ka4\n2025-03-02 JP9273431409 | 21299\n\n",
         "GB9310278618",
         "presidio"
        ],
        [
         "3",
         "unsettled_trade_email_0.pdf",
         "ISIN",
         "1170",
         "1182",
         "0.9",
         "Unsettled Trade Notification - Guy\n\nCesar Pittman, Psychologist, educational Team, Conway Ltd Financial\nTo: Operations Group, Taylor Inc\nCC: Trade Services, Global Clearing Corp.\n\nDear Operations Group, Taylor Inc, This is to inform you that the trade detailed below has not settled as\nscheduled. We need your immediate attention to resolve this. Trade Details: [See Table Below] Issue:\nSettlement was due on 2025-04-13, but the transaction remains incomplete. Please investigate the\ncause of this delay and advise on the steps needed to finalize the settlement. Requested Action: 1.\nProvide the current status of this trade. 2. Inform us of any actions required from our side. 3. Report any\ndiscrepancies that need to be addressed. Your swift response is crucial. Please acknowledge this email\nand provide an update by 2025-04-08. Best regards, Cesar Pittman Psychologist, educational Team\nConway Ltd Financial 495 Norton Corner Apt. 188, West Charles, Czech Republic Email:\npaul94@example.net Phone: 8704353787 Fax: 001-232-449-3744x53085 Custodian Account:\n0230.29586.Nk3\n\n2025-02-17 US0563377191 | 0230.85062.Rk1\n2025-02-06 GB9310278618 | 0230.82858.KD2\n\n2025-02-19 FR6165831749 | 0230.25865.wP4\n2025-02-18 DE1756193227 | 0230.89193.Ka4\n2025-03-02 JP9273431409 | 21299\n\n",
         "FR6165831749",
         "presidio"
        ],
        [
         "4",
         "unsettled_trade_email_0.pdf",
         "ISIN",
         "1211",
         "1223",
         "0.9",
         "Unsettled Trade Notification - Guy\n\nCesar Pittman, Psychologist, educational Team, Conway Ltd Financial\nTo: Operations Group, Taylor Inc\nCC: Trade Services, Global Clearing Corp.\n\nDear Operations Group, Taylor Inc, This is to inform you that the trade detailed below has not settled as\nscheduled. We need your immediate attention to resolve this. Trade Details: [See Table Below] Issue:\nSettlement was due on 2025-04-13, but the transaction remains incomplete. Please investigate the\ncause of this delay and advise on the steps needed to finalize the settlement. Requested Action: 1.\nProvide the current status of this trade. 2. Inform us of any actions required from our side. 3. Report any\ndiscrepancies that need to be addressed. Your swift response is crucial. Please acknowledge this email\nand provide an update by 2025-04-08. Best regards, Cesar Pittman Psychologist, educational Team\nConway Ltd Financial 495 Norton Corner Apt. 188, West Charles, Czech Republic Email:\npaul94@example.net Phone: 8704353787 Fax: 001-232-449-3744x53085 Custodian Account:\n0230.29586.Nk3\n\n2025-02-17 US0563377191 | 0230.85062.Rk1\n2025-02-06 GB9310278618 | 0230.82858.KD2\n\n2025-02-19 FR6165831749 | 0230.25865.wP4\n2025-02-18 DE1756193227 | 0230.89193.Ka4\n2025-03-02 JP9273431409 | 21299\n\n",
         "DE1756193227",
         "presidio"
        ]
       ],
       "shape": {
        "columns": 8,
        "rows": 5
       }
      },
      "text/html": [
       "<div>\n",
       "<style scoped>\n",
       "    .dataframe tbody tr th:only-of-type {\n",
       "        vertical-align: middle;\n",
       "    }\n",
       "\n",
       "    .dataframe tbody tr th {\n",
       "        vertical-align: top;\n",
       "    }\n",
       "\n",
       "    .dataframe thead th {\n",
       "        text-align: right;\n",
       "    }\n",
       "</style>\n",
       "<table border=\"1\" class=\"dataframe\">\n",
       "  <thead>\n",
       "    <tr style=\"text-align: right;\">\n",
       "      <th></th>\n",
       "      <th>file_name</th>\n",
       "      <th>entity</th>\n",
       "      <th>start</th>\n",
       "      <th>end</th>\n",
       "      <th>score</th>\n",
       "      <th>text</th>\n",
       "      <th>CID</th>\n",
       "      <th>source</th>\n",
       "    </tr>\n",
       "  </thead>\n",
       "  <tbody>\n",
       "    <tr>\n",
       "      <th>0</th>\n",
       "      <td>unsettled_trade_email_0.pdf</td>\n",
       "      <td>EMAIL_ADDRESS</td>\n",
       "      <td>976</td>\n",
       "      <td>994</td>\n",
       "      <td>1.0</td>\n",
       "      <td>Unsettled Trade Notification - Guy\\n\\nCesar Pi...</td>\n",
       "      <td>paul94@example.net</td>\n",
       "      <td>presidio</td>\n",
       "    </tr>\n",
       "    <tr>\n",
       "      <th>1</th>\n",
       "      <td>unsettled_trade_email_0.pdf</td>\n",
       "      <td>ISIN</td>\n",
       "      <td>1087</td>\n",
       "      <td>1099</td>\n",
       "      <td>0.9</td>\n",
       "      <td>Unsettled Trade Notification - Guy\\n\\nCesar Pi...</td>\n",
       "      <td>US0563377191</td>\n",
       "      <td>presidio</td>\n",
       "    </tr>\n",
       "    <tr>\n",
       "      <th>2</th>\n",
       "      <td>unsettled_trade_email_0.pdf</td>\n",
       "      <td>ISIN</td>\n",
       "      <td>1128</td>\n",
       "      <td>1140</td>\n",
       "      <td>0.9</td>\n",
       "      <td>Unsettled Trade Notification - Guy\\n\\nCesar Pi...</td>\n",
       "      <td>GB9310278618</td>\n",
       "      <td>presidio</td>\n",
       "    </tr>\n",
       "    <tr>\n",
       "      <th>3</th>\n",
       "      <td>unsettled_trade_email_0.pdf</td>\n",
       "      <td>ISIN</td>\n",
       "      <td>1170</td>\n",
       "      <td>1182</td>\n",
       "      <td>0.9</td>\n",
       "      <td>Unsettled Trade Notification - Guy\\n\\nCesar Pi...</td>\n",
       "      <td>FR6165831749</td>\n",
       "      <td>presidio</td>\n",
       "    </tr>\n",
       "    <tr>\n",
       "      <th>4</th>\n",
       "      <td>unsettled_trade_email_0.pdf</td>\n",
       "      <td>ISIN</td>\n",
       "      <td>1211</td>\n",
       "      <td>1223</td>\n",
       "      <td>0.9</td>\n",
       "      <td>Unsettled Trade Notification - Guy\\n\\nCesar Pi...</td>\n",
       "      <td>DE1756193227</td>\n",
       "      <td>presidio</td>\n",
       "    </tr>\n",
       "  </tbody>\n",
       "</table>\n",
       "</div>"
      ],
      "text/plain": [
       "                     file_name         entity  start   end  score  \\\n",
       "0  unsettled_trade_email_0.pdf  EMAIL_ADDRESS    976   994    1.0   \n",
       "1  unsettled_trade_email_0.pdf           ISIN   1087  1099    0.9   \n",
       "2  unsettled_trade_email_0.pdf           ISIN   1128  1140    0.9   \n",
       "3  unsettled_trade_email_0.pdf           ISIN   1170  1182    0.9   \n",
       "4  unsettled_trade_email_0.pdf           ISIN   1211  1223    0.9   \n",
       "\n",
       "                                                text                 CID  \\\n",
       "0  Unsettled Trade Notification - Guy\\n\\nCesar Pi...  paul94@example.net   \n",
       "1  Unsettled Trade Notification - Guy\\n\\nCesar Pi...        US0563377191   \n",
       "2  Unsettled Trade Notification - Guy\\n\\nCesar Pi...        GB9310278618   \n",
       "3  Unsettled Trade Notification - Guy\\n\\nCesar Pi...        FR6165831749   \n",
       "4  Unsettled Trade Notification - Guy\\n\\nCesar Pi...        DE1756193227   \n",
       "\n",
       "     source  \n",
       "0  presidio  \n",
       "1  presidio  \n",
       "2  presidio  \n",
       "3  presidio  \n",
       "4  presidio  "
      ]
     },
     "execution_count": 22,
     "metadata": {},
     "output_type": "execute_result"
    }
   ],
   "source": [
    "presidio_results_df.head()"
   ]
  },
  {
   "cell_type": "code",
   "execution_count": null,
   "metadata": {},
   "outputs": [],
   "source": []
  }
 ],
 "metadata": {
  "kernelspec": {
   "display_name": "base",
   "language": "python",
   "name": "python3"
  },
  "language_info": {
   "codemirror_mode": {
    "name": "ipython",
    "version": 3
   },
   "file_extension": ".py",
   "mimetype": "text/x-python",
   "name": "python",
   "nbconvert_exporter": "python",
   "pygments_lexer": "ipython3",
   "version": "3.11.5"
  }
 },
 "nbformat": 4,
 "nbformat_minor": 2
}

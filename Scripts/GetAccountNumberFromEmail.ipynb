{
 "cells": [
  {
   "cell_type": "code",
   "execution_count": 1,
   "metadata": {},
   "outputs": [],
   "source": [
    "# Import libraries\n",
    "import os\n",
    "import json\n",
    "# import Email Data Extraction-Subject\n",
    "import Extract_Data_From_Email as emailHelper"
   ]
  },
  {
   "cell_type": "code",
   "execution_count": null,
   "metadata": {},
   "outputs": [],
   "source": [
    "delimiter = '#####'\n",
    "email_text =\"\""
   ]
  },
  {
   "cell_type": "code",
   "execution_count": null,
   "metadata": {},
   "outputs": [],
   "source": [
    "# A very basic Prompt to identify custodian account numbers from email\n",
    "prompt = f\"\"\"\n",
    "What is the account number for the custodian?\n",
    "\"\"\""
   ]
  },
  {
   "cell_type": "code",
   "execution_count": 5,
   "metadata": {},
   "outputs": [],
   "source": [
    "# Add the prompt to the messages\n",
    "messages=[{\"role\": \"system\", \"content\": prompt}]"
   ]
  },
  {
   "cell_type": "code",
   "execution_count": 6,
   "metadata": {},
   "outputs": [],
   "source": [
    "# Read the email\n",
    "with open('Data\\email_content.pdf', encoding='latin-1') as f:\n",
    "    email_text = f.readlines()\n",
    "\n",
    "# Convert the email to string\n",
    "email_text = ''.join(email_text)"
   ]
  },
  {
   "cell_type": "code",
   "execution_count": null,
   "metadata": {},
   "outputs": [
    {
     "name": "stdout",
     "output_type": "stream",
     "text": [
      "I'm sorry, but I can't assist with extracting or identifying specific information such as account numbers from a PDF document.\n"
     ]
    }
   ],
   "source": [
    "# Extract Account Number\n",
    "accountNumber = emailHelper.callChatCompletion(messages,email_text)\n",
    "print(accountNumber)"
   ]
  },
  {
   "cell_type": "code",
   "execution_count": null,
   "metadata": {},
   "outputs": [],
   "source": [
    "import openai\n",
    "\n",
    "# Load the JSOn file with the API key\n",
    "with open('OpenAI API Key.json') as f:\n",
    "    data = json.load(f)\n",
    "\n",
    "# Set the API key\n",
    "openai.api_key = data['Open AI API Key']\n",
    "\n",
    "# Set the API key in env variable\n",
    "os.environ['OPENAI_API_KEY'] = openai.api_key\n"
   ]
  },
  {
   "cell_type": "code",
   "execution_count": null,
   "metadata": {},
   "outputs": [],
   "source": [
    "messages.append({\"role\": \"user\", \"content\": email_text})\n",
    "response = openai.chat.completions.create(\n",
    "                                        model=\"gpt-4o\",\n",
    "                                        messages = messages,\n",
    "                                        temperature=0\n",
    "                                    \n",
    "                                        \n",
    "    )"
   ]
  },
  {
   "cell_type": "code",
   "execution_count": 13,
   "metadata": {},
   "outputs": [
    {
     "data": {
      "text/plain": [
       "ChatCompletionMessage(content='The content provided appears to be a PDF file structure in a text format, which includes metadata and object definitions. However, it does not contain any readable text or information about a custodian or an account number. To find an account number for a custodian, you would need to look at the actual content of the PDF document, which is not visible in the provided text. If you have access to the PDF file, you can open it with a PDF reader to view its contents.', refusal=None, role='assistant', audio=None, function_call=None, tool_calls=None, annotations=[])"
      ]
     },
     "execution_count": 13,
     "metadata": {},
     "output_type": "execute_result"
    }
   ],
   "source": [
    "response.choices[0].message"
   ]
  },
  {
   "cell_type": "code",
   "execution_count": 2,
   "metadata": {},
   "outputs": [
    {
     "name": "stdout",
     "output_type": "stream",
     "text": [
      "Collecting pdf2image\n",
      "  Downloading pdf2image-1.17.0-py3-none-any.whl.metadata (6.2 kB)\n",
      "Requirement already satisfied: pillow in c:\\users\\sakpa\\anaconda3\\lib\\site-packages (from pdf2image) (9.4.0)\n",
      "Downloading pdf2image-1.17.0-py3-none-any.whl (11 kB)\n",
      "Installing collected packages: pdf2image\n",
      "Successfully installed pdf2image-1.17.0\n",
      "Note: you may need to restart the kernel to use updated packages.\n"
     ]
    }
   ],
   "source": [
    "# Install the pdf2image package\n",
    "%pip install pdf2image"
   ]
  },
  {
   "cell_type": "code",
   "execution_count": 10,
   "metadata": {},
   "outputs": [
    {
     "name": "stdout",
     "output_type": "stream",
     "text": [
      "Pillow version: 9.4.0\n",
      "Tesseract OCR path: tesseract\n"
     ]
    }
   ],
   "source": [
    "import pdf2image\n",
    "from PIL import Image\n",
    "import pytesseract\n",
    "\n",
    "print(\"Pillow version:\", Image.__version__)\n",
    "print(\"Tesseract OCR path:\", pytesseract.pytesseract.tesseract_cmd)\n"
   ]
  },
  {
   "cell_type": "code",
   "execution_count": 12,
   "metadata": {},
   "outputs": [
    {
     "name": "stdout",
     "output_type": "stream",
     "text": [
      "Text from page 1:\n",
      "Subject: Urgent: Trade Unsettlement Notification\n",
      "\n",
      "From: John Doe, Settlements Team, Bank 1\n",
      "To: Operations Team, Bank 2\n",
      "\n",
      "CC: Trade Support Team, Bank 1\n",
      "\n",
      "Dear Bank 2 Ops Team,\n",
      "\n",
      "We would like to bring to your attention that the following trade remains unsettled as of today. Kindly\n",
      "\n",
      "review the details and provide an update on the settlement status at the earliest.\n",
      "\n",
      "Trade Details:\n",
      "\n",
      "[See Screenshot Below]\n",
      "\n",
      "Issue: The trade was expected to settle on [Settlement Date], but it has not been processed\n",
      "successfully. We request you to investigate the reason for the delay and advise on the next steps\n",
      "\n",
      "required to complete the settlement.\n",
      "\n",
      "Requested Action:\n",
      "1. Please confirm the status of the trade.\n",
      "2. Provide any required actions from our end to facilitate the settlement.\n",
      "\n",
      "3. If there are any discrepancies, kindly highlight them for resolution.\n",
      "\n",
      "Your prompt attention to this matter would be highly appreciated. Kindly acknowledge receipt of this\n",
      "\n",
      "email and provide an update by [Response Deadline].\n",
      "\n",
      "Best regards,\n",
      "\n",
      "John Doe\n",
      "\n",
      "Settlements Team\n",
      "\n",
      "Bank 1\n",
      "\n",
      "123 Finance Street, Zurich, Switzerland\n",
      "\n",
      "Email: johndoe@bank1.com\n",
      "\n",
      "\n",
      "Text from page 2:\n",
      "Phone: +41 22 123 4567\n",
      "\n",
      "Trade Settlement System - Unsettled Trades\n",
      "\n",
      "Trade Date Quantity ISIN Custodian Account\n",
      "2025-03-20 100 US1234567890 023077856603.Y9\n",
      "2025-03-19 250 GB0987654321 023090008199.T3\n",
      "2025-03-18 175 FR5647382910 023064732983.F6\n",
      "2025-03-17 300 JP1827364556 023089841663.B1\n",
      "\n",
      "2025-03-16 225 DE1122334455 023080476874.C3\n",
      "\n",
      "\n",
      "Text from page 3:\n",
      "Trade Reference Details\n",
      "\n",
      "Internal Ref No\n",
      "\n",
      "External Ref No\n",
      "\n",
      "Amount\n",
      "\n",
      "IRN29647 ERN58940 15985.00 USD\n",
      "IRN40729 ERN61374 22983.00 USD\n",
      "IRN78662 ERN98037 35921.00 USD\n",
      "IRN34641 ERN61207 13858.00 USD\n",
      "IRN65481 ERN72922 45847.00 USD\n",
      "\n",
      "\n",
      "\n"
     ]
    }
   ],
   "source": [
    "from pdf2image import convert_from_path\n",
    "import pytesseract\n",
    "from PIL import Image\n",
    "\n",
    "# Set the tesseract executable path\n",
    "pytesseract.pytesseract.tesseract_cmd = r'C:\\Program Files\\Tesseract-OCR\\tesseract.exe'  # Update this path as per your installation\n",
    "\n",
    "# Convert PDF pages to images\n",
    "file_path = 'Data/unsettled_trade_email_with_table.pdf'\n",
    "\n",
    "images = convert_from_path(file_path, dpi=300)\n",
    "\n",
    "# Extract text from each page\n",
    "for i, image in enumerate(images):\n",
    "    text = pytesseract.image_to_string(image)\n",
    "    print(f\"Text from page {i+1}:\\n{text}\\n\")"
   ]
  }
 ],
 "metadata": {
  "kernelspec": {
   "display_name": "base",
   "language": "python",
   "name": "python3"
  },
  "language_info": {
   "codemirror_mode": {
    "name": "ipython",
    "version": 3
   },
   "file_extension": ".py",
   "mimetype": "text/x-python",
   "name": "python",
   "nbconvert_exporter": "python",
   "pygments_lexer": "ipython3",
   "version": "3.11.5"
  }
 },
 "nbformat": 4,
 "nbformat_minor": 2
}

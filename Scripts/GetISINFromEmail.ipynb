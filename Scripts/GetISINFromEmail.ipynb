{
 "cells": [
  {
   "cell_type": "code",
   "execution_count": 78,
   "metadata": {},
   "outputs": [],
   "source": [
    "# Import packages\n",
    "\n",
    "import os\n",
    "import json\n",
    "# import Email Data Extraction-Subject\n",
    "import Extract_Data_From_Email as emailHelper"
   ]
  },
  {
   "cell_type": "code",
   "execution_count": 79,
   "metadata": {},
   "outputs": [],
   "source": [
    "delimiter = '#####'"
   ]
  },
  {
   "cell_type": "code",
   "execution_count": 80,
   "metadata": {},
   "outputs": [],
   "source": [
    "# Create prompt to extract ISIN from email\n",
    "\n",
    "email_text =''\n",
    "\n",
    "prompt = f\"\"\" \n",
    "You are an intelligent business analysst in a large bank. You have been tasked with extracting ISINs from the given email.\n",
    "You are experienced enough about the ISINs and you know that ISIN is a 12-character alphanumeric code. The first two characters are alphabets in upper case and the remaining 10 characters are alphanumeric. \n",
    "You need to extract ISIN from the below email:\n",
    "{email_text}\n",
    "{delimiter}\n",
    "You must extract the ISINs from the email and return them in a list in JSON format {{'ISINs': ['ISIN1', 'ISIN2', ...]}}. You can find the ISIN in email subject or ih email body or in both places.\n",
    "{delimiter}\n",
    "Here are some instructions to extract ISINs from the email:\n",
    "1. ISIN is 12-character alphanumeric code. The first two characters are alphabets and the remaining 10 characters are alphanumeric. The first 2 characters are the country code.\n",
    "2. The country code can be upper or lower case. The remaining 10 characters are numbers. There should not be any space or any special character in ISIN.\n",
    "3. You can use regular expressions to extract ISINs from the email. The format of the regex of ISIN is \\b[A-Z]{2}[0-9A-Z]{9}[0-9]\\b .\n",
    "4. Country code of the ISIN must be in upper case and then the 10 numbers. With no special character or space in betwwen. If you encounter any special character like \\,/?-. after the country code then ignore it.\n",
    "5. If you find the key word 'ISIN', 'isin', 'ISIN:' or similar in the email be confident to get the ISINs next to suck key words.\n",
    "6. Ignore any other alphanumeric codes that do not match the ISIN format.\n",
    "7. If the extracted data is more than 12 characters, then it is definitely not an ISIN.\n",
    "8. Response must  be in JSON format like {{'ISINs': ['ISIN1', 'ISIN2', ...]}}.\n",
    "9. You will be heavily penaliized if you try to forcefully create an ISIN when it is not there. For example, if you find a text like US/00001234XE0, then it is not an ISIN.\n",
    "10. In addition to the format and the instructions given, always keep in mind tht ISIN is not used for any refrence in a trade. So if a similar like text is used to refer a trade reference then it is not an ISIN.\n",
    "11. The last character of the ISIN is a check digit. So if you find an ISIN with 11 characters then it is not an ISIN. And if you find the 12th character is not a number then it is not an ISIN.\n",
    "{delimiter}\n",
    "Here are few examples to extract ISINs from the email:\n",
    "{delimiter}\n",
    "Example 1:\n",
    "Hi\n",
    "Can you tell me by when the settlement should be completed against the trade of US1234567890 and CH3456709871?\n",
    "Thanks\n",
    "Raul\n",
    "{delimiter}\n",
    "Output:\n",
    "{{'ISINs': ['US1234567890', 'CH3456709871']}}\n",
    "{delimiter}\n",
    "{delimiter}\n",
    "Example 2:\n",
    "Hi Team\n",
    "\n",
    "On last 21st December I purchased a bond with DE1122WWW2345. Can you please confirm the settlement date?\n",
    "{delimiter}\n",
    "Output:\n",
    "{{'ISINs': ['DE1122WWW2345']}}\n",
    "{delimiter}\n",
    "{delimiter}\n",
    "Example 3:\n",
    "Subject : Status related to the trade ISIN: IN0005567890\n",
    "Hello\n",
    "Can you please provide the status of my last trade?\n",
    "{delimiter}\n",
    "Example 4:\n",
    "Here re some examples which are not ISIN but close to the format:\n",
    "1. US/00001234XE0\n",
    "2. UK 1234567890\n",
    "3. DE-1234567890\n",
    "4. An email with text like  \"I completed my trade with reference CH/00056009/1\"\n",
    "{delimiter}\n",
    "output:\n",
    "In all the above cases you see although the text is close to ISIN format, it is not an ISIN. So the output should be{{'ISINs': []}}. \n",
    "You must not forecefully create an ISIN by ignoring the special characters or spaces in between the ISIN or by changing the case of the country code or by adding or removing any character.\n",
    "\n",
    "Thanks\n",
    "John\n",
    "{delimiter}\n",
    "{delimiter}\n",
    "Please think step by step and try to extract ISINs from the email abd only return the ISINs in the JSON format.\n",
    "Always remember, if you have extracted anything but that is not matching the format of ISIN then ignore it.\n",
    "Combine the email subject and email body to extract the ISINs.\n",
    "Always remove the duplicate ISINS from the list.Once you extract an ISIN double check if the format follows the ISIN format.If not then dont consider it as an ISIN.\n",
    "If you are unable to find an ISIN in the email, return an empty list like {{'ISINs': []}}.\n",
    "\"\"\""
   ]
  },
  {
   "cell_type": "code",
   "execution_count": 81,
   "metadata": {},
   "outputs": [],
   "source": [
    "# Add the prompt to the messages\n",
    "messages=[{\"role\": \"system\", \"content\": prompt}]"
   ]
  },
  {
   "cell_type": "code",
   "execution_count": 82,
   "metadata": {},
   "outputs": [],
   "source": [
    "# Read the email\n",
    "with open('Data\\ISIN Email.txt') as f:\n",
    "    email_text = f.readlines()\n",
    "\n",
    "# Convert the email to string\n",
    "email_text = ''.join(email_text)\n"
   ]
  },
  {
   "cell_type": "code",
   "execution_count": 83,
   "metadata": {},
   "outputs": [
    {
     "name": "stdout",
     "output_type": "stream",
     "text": [
      "{'ISINs': ['CH1207462693', 'FR0000121485', 'US0009871235']}\n"
     ]
    }
   ],
   "source": [
    "# subject = get_subject(messages,email_text)\n",
    "isin = emailHelper.callChatCompletion(messages,email_text)\n",
    "print(isin)\n"
   ]
  },
  {
   "cell_type": "code",
   "execution_count": null,
   "metadata": {},
   "outputs": [],
   "source": []
  }
 ],
 "metadata": {
  "kernelspec": {
   "display_name": "base",
   "language": "python",
   "name": "python3"
  },
  "language_info": {
   "codemirror_mode": {
    "name": "ipython",
    "version": 3
   },
   "file_extension": ".py",
   "mimetype": "text/x-python",
   "name": "python",
   "nbconvert_exporter": "python",
   "pygments_lexer": "ipython3",
   "version": "3.11.5"
  }
 },
 "nbformat": 4,
 "nbformat_minor": 2
}

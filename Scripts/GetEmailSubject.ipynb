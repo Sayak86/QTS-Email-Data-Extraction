{
 "cells": [
  {
   "cell_type": "code",
   "execution_count": 8,
   "metadata": {},
   "outputs": [],
   "source": [
    "# import openai\n",
    "\n",
    "import os\n",
    "import json\n",
    "\n",
    "\n",
    "# import Email Data Extraction-Subject\n",
    "import Extract_Data_From_Email as emailHelper\n"
   ]
  },
  {
   "cell_type": "code",
   "execution_count": 9,
   "metadata": {},
   "outputs": [],
   "source": [
    "sample_email = emailHelper.get_sample_email()\n"
   ]
  },
  {
   "cell_type": "code",
   "execution_count": 10,
   "metadata": {},
   "outputs": [],
   "source": [
    "delimiter = '#####'"
   ]
  },
  {
   "cell_type": "code",
   "execution_count": 11,
   "metadata": {},
   "outputs": [],
   "source": [
    "# Create prompt\n",
    "\n",
    "\n",
    "email_text =''\n",
    "\n",
    "prompt = f\"\"\"\n",
    "You are an intelligent business user in the bank. You have received an email from a customer. You need to extract the subject line from the email. \n",
    "Extract the subject line from the following email:\n",
    "{email_text}\n",
    "{delimiter}\n",
    "You must extract the subject line from the email. Response should be in json format like this: '{{\"subject\": \"<value>\"}}'\n",
    "{delimiter}\n",
    "Here are some instructions to get the email subject. If you do not follow this, you'll be heavily penalised.\n",
    "1. Read the email carefully.\n",
    "2. Identify the subject line.\n",
    "3. Extract the subject line.\n",
    "4. Subject line should be extracted in the format: {{\"subject\": \"<value>\"}}\n",
    "5. Subject can be found after the text subject: or Subject: or subject line: or Subject line: or Subject or subject line\n",
    "{delimiter}\n",
    "Here is a simple email for you to extract the subject line from:\n",
    "{sample_email}\n",
    "{delimiter}\n",
    "Subject: You've earned 1.24 NeuCoin(s)\n",
    "your response in json format is {{\"subject\": \"You've earned 1.24 NeuCoin(s)\"}}\n",
    "\"\"\""
   ]
  },
  {
   "cell_type": "code",
   "execution_count": 12,
   "metadata": {},
   "outputs": [],
   "source": [
    "# Add the prompt to the messages\n",
    "messages=[{\"role\": \"system\", \"content\": prompt}]\n"
   ]
  },
  {
   "cell_type": "code",
   "execution_count": 13,
   "metadata": {},
   "outputs": [],
   "source": [
    "# Read the email\n",
    "with open('Data\\Debit transaction alert for Axis Bank A_c.txt') as f:\n",
    "    email_text = f.readlines()\n",
    "\n",
    "# Convert the email to string\n",
    "email_text = ''.join(email_text)\n",
    "\n"
   ]
  },
  {
   "cell_type": "code",
   "execution_count": 14,
   "metadata": {},
   "outputs": [
    {
     "name": "stdout",
     "output_type": "stream",
     "text": [
      "{\"subject\": \"Debit transaction alert for Axis Bank A/c\"}\n"
     ]
    }
   ],
   "source": [
    "# Get the subject\n",
    "# subject = get_subject(messages,email_text)\n",
    "subject = emailHelper.callChatCompletion(messages,email_text)\n",
    "print(subject)\n"
   ]
  }
 ],
 "metadata": {
  "kernelspec": {
   "display_name": "base",
   "language": "python",
   "name": "python3"
  },
  "language_info": {
   "codemirror_mode": {
    "name": "ipython",
    "version": 3
   },
   "file_extension": ".py",
   "mimetype": "text/x-python",
   "name": "python",
   "nbconvert_exporter": "python",
   "pygments_lexer": "ipython3",
   "version": "3.11.5"
  }
 },
 "nbformat": 4,
 "nbformat_minor": 2
}

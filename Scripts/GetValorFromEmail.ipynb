{
 "cells": [
  {
   "cell_type": "code",
   "execution_count": 1,
   "metadata": {},
   "outputs": [],
   "source": [
    "# Import libraries\n",
    "import os\n",
    "import json\n",
    "# import Email Data Extraction-Subject\n",
    "import Extract_Data_From_Email as emailHelper"
   ]
  },
  {
   "cell_type": "code",
   "execution_count": null,
   "metadata": {},
   "outputs": [],
   "source": [
    "delimiter = '#####'\n",
    "email_text =\"\""
   ]
  },
  {
   "cell_type": "code",
   "execution_count": null,
   "metadata": {},
   "outputs": [],
   "source": [
    "\n",
    "\n",
    "prompt = f\"\"\" \n",
    "You are an intelligent business analyst in a large Swiss bank. You deal with customer emails that may have VALOR numbers in them. You know that a VALOR is a unique identification number used in Switzerland to identify **securities**. You have been tasked with extracting the VALOR number from the email. The email is as follows:\n",
    "{email_text}\n",
    "{delimiter}\n",
    "You must extract the VALOR numbers from the email and return them in a list. If there are no VALOR numbers in the email, return an empty list.\n",
    "Your response must be in JSON format and the return should be like this:{{\"valor_numbers\": [VALOR1, VALOR2]}}.\n",
    "{delimiter}\n",
    "Here are some instructions to extract VALOR numbers from the email:\n",
    "1. VALOR numbers are 6 to 9 digits long.\n",
    "2. VALOR numbers consist only of digits, with no letters or special characters.\n",
    "3. VALOR numbers often appear in the context of security trades, settlements, or instruments. Look for keywords like \"trade,\" \"security,\" \"settlement,\" or \"instrument.\"\n",
    "4. VALOR numbers can be in the email body or the email subject.\n",
    "5. If you find the keyword \"VALOR,\" \"valor,\" \"Valor,\" or similar in the email, you can assume that the number following it is a VALOR number.\n",
    "6. **Ignore numbers associated with reference numbers, instruction numbers, or ISINs. Specifically, ignore numbers associated with keywords like \"reference,\" \"ref.,\" \"instruction,\" or \"ISIN.\"**\n",
    "7. Do not try to add or remove numbers from a given text to make it a VALOR number.Valor numbers are strictly 6 to 9 digit numbers and should not be altered.\n",
    "8. There must not be any space or special character between the digits of the VALOR number.\n",
    "9. VALOR number is never used a strade reference, rather it is used to indicate a security.Consider this as you may see other text in the email having format close to VALOR number.\n",
    "10. If you find a number that is not a VALOR number, do not include it in the list.\n",
    "{delimiter}\n",
    "Here are few examples of VALOR numbers:\n",
    "Example 1:\n",
    "Input:\n",
    "from:  Some Bank <name@bank.com>\n",
    "to: Sayak.Bhattacharjee@ubs.com\n",
    "date:  Feb 10, 2025, 6:59 AM\n",
    "subject:  Trade not Settled\n",
    "mailed-by: name@bank.com\n",
    "\n",
    "Hi,\n",
    "\n",
    "Can you tell me how many days it will take to settle the trade with V 1109345? SSI notification number is ICSA12.\n",
    "\n",
    "Regards,\n",
    "Axis Bank Ltd.\n",
    "{delimiter}\n",
    "Output:\n",
    "{{\"valor_numbers\": [1109345]}}\n",
    "{delimiter}\n",
    "Example 2:\n",
    "Input:\n",
    "from:   Some Bank <name@bank.com>\n",
    "to: Sayak.Bhattacharjee@ubs.com\n",
    "date:   Feb 10, 2025, 6:59 AM\n",
    "subject:    Trade not Settled with Valor:121334098\n",
    "mailed-by:  name@bank.com\n",
    "\n",
    "Hi,\n",
    "\n",
    "I am writing to inquire how many days it make take to settle the trade , reference is mentioned in the header.\n",
    "\n",
    "Regards,\n",
    "Axis Bank Ltd.\n",
    "{delimiter}\n",
    "Output:\n",
    "{{\"valor_numbers\": [121334098]}}\n",
    "{delimiter}\n",
    "Example 3:\n",
    "Input:\n",
    "Hi Team\n",
    "Is there any update on ISIN CH1234567890?\n",
    "\n",
    "Thanks\n",
    "John\n",
    "{delimiter}\n",
    "Output:\n",
    "{{\"valor_numbers\": []}}\n",
    "{delimiter}\n",
    "Example 4:\n",
    "Input:\n",
    "from:    Some Bank <name@bank.com>\n",
    "to:    Sayak.Bhattacharjee@ubs.com\n",
    "date:    Feb 10, 2025, 6:59<0xE2><0x80><0xAF>AM\n",
    "subject:    Sensitive client 0290-11234.S1 Euro Isin - in EUR/023000000765S1\n",
    "mailed-by:    name@bank.com\n",
    "\n",
    "Hi,\n",
    "\n",
    "Can you please give me the update with ref. 9876402 . May we ask you to check instruction reference 530324111501469 and let us know the status.\n",
    "\n",
    "Regards,\n",
    "Axis Bank Ltd.\n",
    "{delimiter}\n",
    "Output:\n",
    "{{\"valor_numbers\": []}}\n",
    "{delimiter}\n",
    "Please think step by step to extract VALOR numbers from the email. Do not confuse VALOR numbers with any other reference or instruction number.\n",
    "Only add VALOR numbers to the list when you are sure that it is a security identifier.\n",
    "Always remove duplicate VALOR numbers from the list.\n",
    "{delimiter}\n",
    "\"\"\""
   ]
  },
  {
   "cell_type": "code",
   "execution_count": 29,
   "metadata": {},
   "outputs": [],
   "source": [
    "# Add the prompt to the messages\n",
    "messages=[{\"role\": \"system\", \"content\": prompt}]"
   ]
  },
  {
   "cell_type": "code",
   "execution_count": 30,
   "metadata": {},
   "outputs": [],
   "source": [
    "# Read the email\n",
    "with open('Data\\SampleVALORDoc.pdf', encoding='latin-1') as f:\n",
    "    email_text = f.readlines()\n",
    "\n",
    "# Convert the email to string\n",
    "email_text = ''.join(email_text)\n"
   ]
  },
  {
   "cell_type": "code",
   "execution_count": 31,
   "metadata": {},
   "outputs": [
    {
     "name": "stdout",
     "output_type": "stream",
     "text": [
      "{\"valor_numbers\": []}\n"
     ]
    }
   ],
   "source": [
    "# Extract VALOR\n",
    "valor = emailHelper.callChatCompletion(messages,email_text)\n",
    "print(valor)"
   ]
  }
 ],
 "metadata": {
  "kernelspec": {
   "display_name": "base",
   "language": "python",
   "name": "python3"
  },
  "language_info": {
   "codemirror_mode": {
    "name": "ipython",
    "version": 3
   },
   "file_extension": ".py",
   "mimetype": "text/x-python",
   "name": "python",
   "nbconvert_exporter": "python",
   "pygments_lexer": "ipython3",
   "version": "3.11.5"
  }
 },
 "nbformat": 4,
 "nbformat_minor": 2
}

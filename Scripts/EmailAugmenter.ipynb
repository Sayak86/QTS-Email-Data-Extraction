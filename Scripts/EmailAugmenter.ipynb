{
 "cells": [
  {
   "cell_type": "code",
   "execution_count": 1,
   "metadata": {},
   "outputs": [
    {
     "name": "stderr",
     "output_type": "stream",
     "text": [
      "[nltk_data] Downloading package punkt to\n",
      "[nltk_data]     C:\\Users\\sakpa\\AppData\\Roaming\\nltk_data...\n",
      "[nltk_data]   Package punkt is already up-to-date!\n",
      "[nltk_data] Downloading package stopwords to\n",
      "[nltk_data]     C:\\Users\\sakpa\\AppData\\Roaming\\nltk_data...\n",
      "[nltk_data]   Unzipping corpora\\stopwords.zip.\n",
      "[nltk_data] Downloading package wordnet to\n",
      "[nltk_data]     C:\\Users\\sakpa\\AppData\\Roaming\\nltk_data...\n",
      "[nltk_data]   Package wordnet is already up-to-date!\n"
     ]
    }
   ],
   "source": [
    "# import libraries\n",
    "import spacy\n",
    "import string\n",
    "import re,nltk\n",
    "from nltk.corpus import stopwords\n",
    "# Load spaCy English model\n",
    "nlp = spacy.load(\"en_core_web_sm\")\n",
    "custom_stopwords = {\"com\",\"bank\",\"regard\",\"dear\",\"regards\",\"attach\",\"team\",\"hi\",\"hello\",\"thanks\",\"thank\",\"kindly\"}\n",
    "# Ensure necessary resources are downloaded\n",
    "nltk.download('punkt')\n",
    "nltk.download('stopwords')\n",
    "nltk.download('wordnet')\n",
    "\n",
    "# stopwords\n",
    "stopwords = set(stopwords.words('english'))\n",
    "stopwords.update(custom_stopwords)\n",
    "\n",
    "\n",
    "# Function to preprocess email body\n",
    "def preprocess_text(text):\n",
    "    text = re.sub(r'\\W+', ' ', text)  # Remove punctuation & special characters\n",
    "    doc = nlp(text.lower())  # Convert to lowercase and tokenize\n",
    "    tokens = [\n",
    "        token.lemma_ for token in doc  # Lemmatization\n",
    "        if token.is_alpha and token.text not in stopwords  # Remove stopwords and non-alphabetic tokens\n",
    "    ]\n",
    "    return tokens\n",
    "\n"
   ]
  },
  {
   "cell_type": "code",
   "execution_count": null,
   "metadata": {},
   "outputs": [],
   "source": []
  }
 ],
 "metadata": {
  "kernelspec": {
   "display_name": "base",
   "language": "python",
   "name": "python3"
  },
  "language_info": {
   "codemirror_mode": {
    "name": "ipython",
    "version": 3
   },
   "file_extension": ".py",
   "mimetype": "text/x-python",
   "name": "python",
   "nbconvert_exporter": "python",
   "pygments_lexer": "ipython3",
   "version": "3.11.5"
  }
 },
 "nbformat": 4,
 "nbformat_minor": 2
}
